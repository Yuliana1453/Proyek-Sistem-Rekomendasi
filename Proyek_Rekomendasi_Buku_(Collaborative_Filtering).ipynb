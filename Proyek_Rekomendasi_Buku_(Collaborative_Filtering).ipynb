{
  "cells": [
    {
      "cell_type": "markdown",
      "metadata": {
        "id": "view-in-github",
        "colab_type": "text"
      },
      "source": [
        "<a href=\"https://colab.research.google.com/github/Yuliana1453/Proyek-Sistem-Rekomendasi/blob/main/Proyek_Rekomendasi_Buku_(Collaborative_Filtering).ipynb\" target=\"_parent\"><img src=\"https://colab.research.google.com/assets/colab-badge.svg\" alt=\"Open In Colab\"/></a>"
      ]
    },
    {
      "cell_type": "markdown",
      "metadata": {
        "id": "mOg_JJaQ5b-k"
      },
      "source": [
        "#Import Modul"
      ]
    },
    {
      "cell_type": "code",
      "execution_count": 2,
      "metadata": {
        "id": "SMVU3XhZ5Wze"
      },
      "outputs": [],
      "source": [
        "import pandas as pd\n",
        "import numpy as np\n",
        "from zipfile import ZipFile\n",
        "import tensorflow as tf\n",
        "from tensorflow import keras\n",
        "from tensorflow.keras import layers\n",
        "from pathlib import Path\n",
        "import matplotlib.pyplot as plt\n",
        "import seaborn as sns"
      ]
    },
    {
      "cell_type": "markdown",
      "metadata": {
        "id": "zhfCo9-M5wMn"
      },
      "source": [
        "#Loading Data"
      ]
    },
    {
      "cell_type": "code",
      "execution_count": 1,
      "metadata": {
        "colab": {
          "base_uri": "https://localhost:8080/",
          "height": 88
        },
        "id": "F376ViyH5xvZ",
        "outputId": "724311e5-0a40-4d1d-ae02-b8cc32299758"
      },
      "outputs": [
        {
          "output_type": "display_data",
          "data": {
            "text/plain": [
              "<IPython.core.display.HTML object>"
            ],
            "text/html": [
              "\n",
              "     <input type=\"file\" id=\"files-61860a3d-a9b0-4310-a02f-a9360b2d7c59\" name=\"files[]\" multiple disabled\n",
              "        style=\"border:none\" />\n",
              "     <output id=\"result-61860a3d-a9b0-4310-a02f-a9360b2d7c59\">\n",
              "      Upload widget is only available when the cell has been executed in the\n",
              "      current browser session. Please rerun this cell to enable.\n",
              "      </output>\n",
              "      <script>// Copyright 2017 Google LLC\n",
              "//\n",
              "// Licensed under the Apache License, Version 2.0 (the \"License\");\n",
              "// you may not use this file except in compliance with the License.\n",
              "// You may obtain a copy of the License at\n",
              "//\n",
              "//      http://www.apache.org/licenses/LICENSE-2.0\n",
              "//\n",
              "// Unless required by applicable law or agreed to in writing, software\n",
              "// distributed under the License is distributed on an \"AS IS\" BASIS,\n",
              "// WITHOUT WARRANTIES OR CONDITIONS OF ANY KIND, either express or implied.\n",
              "// See the License for the specific language governing permissions and\n",
              "// limitations under the License.\n",
              "\n",
              "/**\n",
              " * @fileoverview Helpers for google.colab Python module.\n",
              " */\n",
              "(function(scope) {\n",
              "function span(text, styleAttributes = {}) {\n",
              "  const element = document.createElement('span');\n",
              "  element.textContent = text;\n",
              "  for (const key of Object.keys(styleAttributes)) {\n",
              "    element.style[key] = styleAttributes[key];\n",
              "  }\n",
              "  return element;\n",
              "}\n",
              "\n",
              "// Max number of bytes which will be uploaded at a time.\n",
              "const MAX_PAYLOAD_SIZE = 100 * 1024;\n",
              "\n",
              "function _uploadFiles(inputId, outputId) {\n",
              "  const steps = uploadFilesStep(inputId, outputId);\n",
              "  const outputElement = document.getElementById(outputId);\n",
              "  // Cache steps on the outputElement to make it available for the next call\n",
              "  // to uploadFilesContinue from Python.\n",
              "  outputElement.steps = steps;\n",
              "\n",
              "  return _uploadFilesContinue(outputId);\n",
              "}\n",
              "\n",
              "// This is roughly an async generator (not supported in the browser yet),\n",
              "// where there are multiple asynchronous steps and the Python side is going\n",
              "// to poll for completion of each step.\n",
              "// This uses a Promise to block the python side on completion of each step,\n",
              "// then passes the result of the previous step as the input to the next step.\n",
              "function _uploadFilesContinue(outputId) {\n",
              "  const outputElement = document.getElementById(outputId);\n",
              "  const steps = outputElement.steps;\n",
              "\n",
              "  const next = steps.next(outputElement.lastPromiseValue);\n",
              "  return Promise.resolve(next.value.promise).then((value) => {\n",
              "    // Cache the last promise value to make it available to the next\n",
              "    // step of the generator.\n",
              "    outputElement.lastPromiseValue = value;\n",
              "    return next.value.response;\n",
              "  });\n",
              "}\n",
              "\n",
              "/**\n",
              " * Generator function which is called between each async step of the upload\n",
              " * process.\n",
              " * @param {string} inputId Element ID of the input file picker element.\n",
              " * @param {string} outputId Element ID of the output display.\n",
              " * @return {!Iterable<!Object>} Iterable of next steps.\n",
              " */\n",
              "function* uploadFilesStep(inputId, outputId) {\n",
              "  const inputElement = document.getElementById(inputId);\n",
              "  inputElement.disabled = false;\n",
              "\n",
              "  const outputElement = document.getElementById(outputId);\n",
              "  outputElement.innerHTML = '';\n",
              "\n",
              "  const pickedPromise = new Promise((resolve) => {\n",
              "    inputElement.addEventListener('change', (e) => {\n",
              "      resolve(e.target.files);\n",
              "    });\n",
              "  });\n",
              "\n",
              "  const cancel = document.createElement('button');\n",
              "  inputElement.parentElement.appendChild(cancel);\n",
              "  cancel.textContent = 'Cancel upload';\n",
              "  const cancelPromise = new Promise((resolve) => {\n",
              "    cancel.onclick = () => {\n",
              "      resolve(null);\n",
              "    };\n",
              "  });\n",
              "\n",
              "  // Wait for the user to pick the files.\n",
              "  const files = yield {\n",
              "    promise: Promise.race([pickedPromise, cancelPromise]),\n",
              "    response: {\n",
              "      action: 'starting',\n",
              "    }\n",
              "  };\n",
              "\n",
              "  cancel.remove();\n",
              "\n",
              "  // Disable the input element since further picks are not allowed.\n",
              "  inputElement.disabled = true;\n",
              "\n",
              "  if (!files) {\n",
              "    return {\n",
              "      response: {\n",
              "        action: 'complete',\n",
              "      }\n",
              "    };\n",
              "  }\n",
              "\n",
              "  for (const file of files) {\n",
              "    const li = document.createElement('li');\n",
              "    li.append(span(file.name, {fontWeight: 'bold'}));\n",
              "    li.append(span(\n",
              "        `(${file.type || 'n/a'}) - ${file.size} bytes, ` +\n",
              "        `last modified: ${\n",
              "            file.lastModifiedDate ? file.lastModifiedDate.toLocaleDateString() :\n",
              "                                    'n/a'} - `));\n",
              "    const percent = span('0% done');\n",
              "    li.appendChild(percent);\n",
              "\n",
              "    outputElement.appendChild(li);\n",
              "\n",
              "    const fileDataPromise = new Promise((resolve) => {\n",
              "      const reader = new FileReader();\n",
              "      reader.onload = (e) => {\n",
              "        resolve(e.target.result);\n",
              "      };\n",
              "      reader.readAsArrayBuffer(file);\n",
              "    });\n",
              "    // Wait for the data to be ready.\n",
              "    let fileData = yield {\n",
              "      promise: fileDataPromise,\n",
              "      response: {\n",
              "        action: 'continue',\n",
              "      }\n",
              "    };\n",
              "\n",
              "    // Use a chunked sending to avoid message size limits. See b/62115660.\n",
              "    let position = 0;\n",
              "    do {\n",
              "      const length = Math.min(fileData.byteLength - position, MAX_PAYLOAD_SIZE);\n",
              "      const chunk = new Uint8Array(fileData, position, length);\n",
              "      position += length;\n",
              "\n",
              "      const base64 = btoa(String.fromCharCode.apply(null, chunk));\n",
              "      yield {\n",
              "        response: {\n",
              "          action: 'append',\n",
              "          file: file.name,\n",
              "          data: base64,\n",
              "        },\n",
              "      };\n",
              "\n",
              "      let percentDone = fileData.byteLength === 0 ?\n",
              "          100 :\n",
              "          Math.round((position / fileData.byteLength) * 100);\n",
              "      percent.textContent = `${percentDone}% done`;\n",
              "\n",
              "    } while (position < fileData.byteLength);\n",
              "  }\n",
              "\n",
              "  // All done.\n",
              "  yield {\n",
              "    response: {\n",
              "      action: 'complete',\n",
              "    }\n",
              "  };\n",
              "}\n",
              "\n",
              "scope.google = scope.google || {};\n",
              "scope.google.colab = scope.google.colab || {};\n",
              "scope.google.colab._files = {\n",
              "  _uploadFiles,\n",
              "  _uploadFilesContinue,\n",
              "};\n",
              "})(self);\n",
              "</script> "
            ]
          },
          "metadata": {}
        },
        {
          "output_type": "stream",
          "name": "stdout",
          "text": [
            "Saving kaggle.json to kaggle.json\n"
          ]
        },
        {
          "output_type": "execute_result",
          "data": {
            "text/plain": [
              "{'kaggle.json': b'{\"username\":\"yuliana1453\",\"key\":\"922ded906b70e997e0d6db25055c4c48\"}'}"
            ]
          },
          "metadata": {},
          "execution_count": 1
        }
      ],
      "source": [
        "from google.colab import files\n",
        "files.upload()"
      ]
    },
    {
      "cell_type": "code",
      "execution_count": 3,
      "metadata": {
        "id": "PLbEwNur6qFu"
      },
      "outputs": [],
      "source": [
        "!mkdir -p ~/.kaggle\n",
        "!cp kaggle.json ~/.kaggle/kaggle.json\n",
        "!chmod 600 ~/.kaggle/kaggle.json"
      ]
    },
    {
      "cell_type": "code",
      "execution_count": 4,
      "metadata": {
        "colab": {
          "base_uri": "https://localhost:8080/"
        },
        "id": "BAsavwoT69QU",
        "outputId": "897db99e-74d1-4079-fb9a-3d821b3834c7"
      },
      "outputs": [
        {
          "output_type": "stream",
          "name": "stdout",
          "text": [
            "Dataset URL: https://www.kaggle.com/datasets/arashnic/book-recommendation-dataset\n",
            "License(s): CC0-1.0\n",
            "Downloading book-recommendation-dataset.zip to /content\n",
            "  0% 0.00/24.3M [00:00<?, ?B/s]\n",
            "100% 24.3M/24.3M [00:00<00:00, 609MB/s]\n"
          ]
        }
      ],
      "source": [
        "# Download dataset rekomendasi buku\n",
        "!kaggle datasets download -d arashnic/book-recommendation-dataset"
      ]
    },
    {
      "cell_type": "code",
      "execution_count": 5,
      "metadata": {
        "colab": {
          "base_uri": "https://localhost:8080/"
        },
        "id": "rbSsiJn96_pA",
        "outputId": "54a9dbd9-8a89-4bdf-d7a5-de253af99aa8"
      },
      "outputs": [
        {
          "output_type": "stream",
          "name": "stdout",
          "text": [
            "Archive:  book-recommendation-dataset.zip\n",
            "  inflating: Books.csv               \n",
            "  inflating: DeepRec.png             \n",
            "  inflating: Ratings.csv             \n",
            "  inflating: Users.csv               \n",
            "  inflating: classicRec.png          \n",
            "  inflating: recsys_taxonomy2.png    \n"
          ]
        }
      ],
      "source": [
        "# Ekstrak Dataset\n",
        "!unzip book-recommendation-dataset.zip"
      ]
    },
    {
      "cell_type": "code",
      "execution_count": 6,
      "metadata": {
        "colab": {
          "base_uri": "https://localhost:8080/"
        },
        "id": "COkApdyR7QYZ",
        "outputId": "8e1f8326-f3bd-46e7-f9bb-48e3a1b9e5f9"
      },
      "outputs": [
        {
          "output_type": "stream",
          "name": "stderr",
          "text": [
            "<ipython-input-6-3373230196>:2: DtypeWarning: Columns (3) have mixed types. Specify dtype option on import or set low_memory=False.\n",
            "  books = pd.read_csv('/content/Books.csv')\n"
          ]
        },
        {
          "output_type": "stream",
          "name": "stdout",
          "text": [
            "Jumlah data buku      : 271360\n",
            "Jumlah data pengguna  : 278858\n",
            "Jumlah data ratings   : 1149780\n"
          ]
        }
      ],
      "source": [
        "# Load data\n",
        "books = pd.read_csv('/content/Books.csv')\n",
        "users = pd.read_csv('/content/Users.csv')\n",
        "ratings = pd.read_csv('/content/Ratings.csv')\n",
        "\n",
        "# Tampilkan jumlah data unik\n",
        "print('Jumlah data buku      :', books['ISBN'].nunique())\n",
        "print('Jumlah data pengguna  :', users['User-ID'].nunique())\n",
        "print('Jumlah data ratings   :', ratings.shape[0])"
      ]
    },
    {
      "cell_type": "markdown",
      "metadata": {
        "id": "lS9zozXh9aUr"
      },
      "source": [
        "# Exploratory Data Analysis (EDA)"
      ]
    },
    {
      "cell_type": "markdown",
      "metadata": {
        "id": "ovAQKeY29tTr"
      },
      "source": [
        "##Books.csv"
      ]
    },
    {
      "cell_type": "code",
      "execution_count": 7,
      "metadata": {
        "colab": {
          "base_uri": "https://localhost:8080/"
        },
        "id": "NZrz2ALV9qVI",
        "outputId": "7190d427-c590-45a5-f607-0260263dae3a"
      },
      "outputs": [
        {
          "output_type": "stream",
          "name": "stdout",
          "text": [
            "Books:\n",
            "<class 'pandas.core.frame.DataFrame'>\n",
            "RangeIndex: 271360 entries, 0 to 271359\n",
            "Data columns (total 8 columns):\n",
            " #   Column               Non-Null Count   Dtype \n",
            "---  ------               --------------   ----- \n",
            " 0   ISBN                 271360 non-null  object\n",
            " 1   Book-Title           271360 non-null  object\n",
            " 2   Book-Author          271358 non-null  object\n",
            " 3   Year-Of-Publication  271360 non-null  object\n",
            " 4   Publisher            271358 non-null  object\n",
            " 5   Image-URL-S          271360 non-null  object\n",
            " 6   Image-URL-M          271360 non-null  object\n",
            " 7   Image-URL-L          271357 non-null  object\n",
            "dtypes: object(8)\n",
            "memory usage: 16.6+ MB\n",
            "None \n",
            "\n"
          ]
        }
      ],
      "source": [
        "print('Books:')\n",
        "print(books.info(), '\\n')"
      ]
    },
    {
      "cell_type": "code",
      "execution_count": 8,
      "metadata": {
        "colab": {
          "base_uri": "https://localhost:8080/",
          "height": 452
        },
        "id": "StbQ97kb-A-L",
        "outputId": "fcfef959-55c8-4ca4-a28b-1a1570dde556"
      },
      "outputs": [
        {
          "output_type": "stream",
          "name": "stdout",
          "text": [
            "Contoh data buku:\n"
          ]
        },
        {
          "output_type": "display_data",
          "data": {
            "text/plain": [
              "         ISBN                                         Book-Title  \\\n",
              "0  0195153448                                Classical Mythology   \n",
              "1  0002005018                                       Clara Callan   \n",
              "2  0060973129                               Decision in Normandy   \n",
              "3  0374157065  Flu: The Story of the Great Influenza Pandemic...   \n",
              "4  0393045218                             The Mummies of Urumchi   \n",
              "\n",
              "            Book-Author Year-Of-Publication                   Publisher  \\\n",
              "0    Mark P. O. Morford                2002     Oxford University Press   \n",
              "1  Richard Bruce Wright                2001       HarperFlamingo Canada   \n",
              "2          Carlo D'Este                1991             HarperPerennial   \n",
              "3      Gina Bari Kolata                1999        Farrar Straus Giroux   \n",
              "4       E. J. W. Barber                1999  W. W. Norton &amp; Company   \n",
              "\n",
              "                                         Image-URL-S  \\\n",
              "0  http://images.amazon.com/images/P/0195153448.0...   \n",
              "1  http://images.amazon.com/images/P/0002005018.0...   \n",
              "2  http://images.amazon.com/images/P/0060973129.0...   \n",
              "3  http://images.amazon.com/images/P/0374157065.0...   \n",
              "4  http://images.amazon.com/images/P/0393045218.0...   \n",
              "\n",
              "                                         Image-URL-M  \\\n",
              "0  http://images.amazon.com/images/P/0195153448.0...   \n",
              "1  http://images.amazon.com/images/P/0002005018.0...   \n",
              "2  http://images.amazon.com/images/P/0060973129.0...   \n",
              "3  http://images.amazon.com/images/P/0374157065.0...   \n",
              "4  http://images.amazon.com/images/P/0393045218.0...   \n",
              "\n",
              "                                         Image-URL-L  \n",
              "0  http://images.amazon.com/images/P/0195153448.0...  \n",
              "1  http://images.amazon.com/images/P/0002005018.0...  \n",
              "2  http://images.amazon.com/images/P/0060973129.0...  \n",
              "3  http://images.amazon.com/images/P/0374157065.0...  \n",
              "4  http://images.amazon.com/images/P/0393045218.0...  "
            ],
            "text/html": [
              "\n",
              "  <div id=\"df-54abfe9f-8cef-4ed7-bf98-110424beb0df\" class=\"colab-df-container\">\n",
              "    <div>\n",
              "<style scoped>\n",
              "    .dataframe tbody tr th:only-of-type {\n",
              "        vertical-align: middle;\n",
              "    }\n",
              "\n",
              "    .dataframe tbody tr th {\n",
              "        vertical-align: top;\n",
              "    }\n",
              "\n",
              "    .dataframe thead th {\n",
              "        text-align: right;\n",
              "    }\n",
              "</style>\n",
              "<table border=\"1\" class=\"dataframe\">\n",
              "  <thead>\n",
              "    <tr style=\"text-align: right;\">\n",
              "      <th></th>\n",
              "      <th>ISBN</th>\n",
              "      <th>Book-Title</th>\n",
              "      <th>Book-Author</th>\n",
              "      <th>Year-Of-Publication</th>\n",
              "      <th>Publisher</th>\n",
              "      <th>Image-URL-S</th>\n",
              "      <th>Image-URL-M</th>\n",
              "      <th>Image-URL-L</th>\n",
              "    </tr>\n",
              "  </thead>\n",
              "  <tbody>\n",
              "    <tr>\n",
              "      <th>0</th>\n",
              "      <td>0195153448</td>\n",
              "      <td>Classical Mythology</td>\n",
              "      <td>Mark P. O. Morford</td>\n",
              "      <td>2002</td>\n",
              "      <td>Oxford University Press</td>\n",
              "      <td>http://images.amazon.com/images/P/0195153448.0...</td>\n",
              "      <td>http://images.amazon.com/images/P/0195153448.0...</td>\n",
              "      <td>http://images.amazon.com/images/P/0195153448.0...</td>\n",
              "    </tr>\n",
              "    <tr>\n",
              "      <th>1</th>\n",
              "      <td>0002005018</td>\n",
              "      <td>Clara Callan</td>\n",
              "      <td>Richard Bruce Wright</td>\n",
              "      <td>2001</td>\n",
              "      <td>HarperFlamingo Canada</td>\n",
              "      <td>http://images.amazon.com/images/P/0002005018.0...</td>\n",
              "      <td>http://images.amazon.com/images/P/0002005018.0...</td>\n",
              "      <td>http://images.amazon.com/images/P/0002005018.0...</td>\n",
              "    </tr>\n",
              "    <tr>\n",
              "      <th>2</th>\n",
              "      <td>0060973129</td>\n",
              "      <td>Decision in Normandy</td>\n",
              "      <td>Carlo D'Este</td>\n",
              "      <td>1991</td>\n",
              "      <td>HarperPerennial</td>\n",
              "      <td>http://images.amazon.com/images/P/0060973129.0...</td>\n",
              "      <td>http://images.amazon.com/images/P/0060973129.0...</td>\n",
              "      <td>http://images.amazon.com/images/P/0060973129.0...</td>\n",
              "    </tr>\n",
              "    <tr>\n",
              "      <th>3</th>\n",
              "      <td>0374157065</td>\n",
              "      <td>Flu: The Story of the Great Influenza Pandemic...</td>\n",
              "      <td>Gina Bari Kolata</td>\n",
              "      <td>1999</td>\n",
              "      <td>Farrar Straus Giroux</td>\n",
              "      <td>http://images.amazon.com/images/P/0374157065.0...</td>\n",
              "      <td>http://images.amazon.com/images/P/0374157065.0...</td>\n",
              "      <td>http://images.amazon.com/images/P/0374157065.0...</td>\n",
              "    </tr>\n",
              "    <tr>\n",
              "      <th>4</th>\n",
              "      <td>0393045218</td>\n",
              "      <td>The Mummies of Urumchi</td>\n",
              "      <td>E. J. W. Barber</td>\n",
              "      <td>1999</td>\n",
              "      <td>W. W. Norton &amp;amp; Company</td>\n",
              "      <td>http://images.amazon.com/images/P/0393045218.0...</td>\n",
              "      <td>http://images.amazon.com/images/P/0393045218.0...</td>\n",
              "      <td>http://images.amazon.com/images/P/0393045218.0...</td>\n",
              "    </tr>\n",
              "  </tbody>\n",
              "</table>\n",
              "</div>\n",
              "    <div class=\"colab-df-buttons\">\n",
              "\n",
              "  <div class=\"colab-df-container\">\n",
              "    <button class=\"colab-df-convert\" onclick=\"convertToInteractive('df-54abfe9f-8cef-4ed7-bf98-110424beb0df')\"\n",
              "            title=\"Convert this dataframe to an interactive table.\"\n",
              "            style=\"display:none;\">\n",
              "\n",
              "  <svg xmlns=\"http://www.w3.org/2000/svg\" height=\"24px\" viewBox=\"0 -960 960 960\">\n",
              "    <path d=\"M120-120v-720h720v720H120Zm60-500h600v-160H180v160Zm220 220h160v-160H400v160Zm0 220h160v-160H400v160ZM180-400h160v-160H180v160Zm440 0h160v-160H620v160ZM180-180h160v-160H180v160Zm440 0h160v-160H620v160Z\"/>\n",
              "  </svg>\n",
              "    </button>\n",
              "\n",
              "  <style>\n",
              "    .colab-df-container {\n",
              "      display:flex;\n",
              "      gap: 12px;\n",
              "    }\n",
              "\n",
              "    .colab-df-convert {\n",
              "      background-color: #E8F0FE;\n",
              "      border: none;\n",
              "      border-radius: 50%;\n",
              "      cursor: pointer;\n",
              "      display: none;\n",
              "      fill: #1967D2;\n",
              "      height: 32px;\n",
              "      padding: 0 0 0 0;\n",
              "      width: 32px;\n",
              "    }\n",
              "\n",
              "    .colab-df-convert:hover {\n",
              "      background-color: #E2EBFA;\n",
              "      box-shadow: 0px 1px 2px rgba(60, 64, 67, 0.3), 0px 1px 3px 1px rgba(60, 64, 67, 0.15);\n",
              "      fill: #174EA6;\n",
              "    }\n",
              "\n",
              "    .colab-df-buttons div {\n",
              "      margin-bottom: 4px;\n",
              "    }\n",
              "\n",
              "    [theme=dark] .colab-df-convert {\n",
              "      background-color: #3B4455;\n",
              "      fill: #D2E3FC;\n",
              "    }\n",
              "\n",
              "    [theme=dark] .colab-df-convert:hover {\n",
              "      background-color: #434B5C;\n",
              "      box-shadow: 0px 1px 3px 1px rgba(0, 0, 0, 0.15);\n",
              "      filter: drop-shadow(0px 1px 2px rgba(0, 0, 0, 0.3));\n",
              "      fill: #FFFFFF;\n",
              "    }\n",
              "  </style>\n",
              "\n",
              "    <script>\n",
              "      const buttonEl =\n",
              "        document.querySelector('#df-54abfe9f-8cef-4ed7-bf98-110424beb0df button.colab-df-convert');\n",
              "      buttonEl.style.display =\n",
              "        google.colab.kernel.accessAllowed ? 'block' : 'none';\n",
              "\n",
              "      async function convertToInteractive(key) {\n",
              "        const element = document.querySelector('#df-54abfe9f-8cef-4ed7-bf98-110424beb0df');\n",
              "        const dataTable =\n",
              "          await google.colab.kernel.invokeFunction('convertToInteractive',\n",
              "                                                    [key], {});\n",
              "        if (!dataTable) return;\n",
              "\n",
              "        const docLinkHtml = 'Like what you see? Visit the ' +\n",
              "          '<a target=\"_blank\" href=https://colab.research.google.com/notebooks/data_table.ipynb>data table notebook</a>'\n",
              "          + ' to learn more about interactive tables.';\n",
              "        element.innerHTML = '';\n",
              "        dataTable['output_type'] = 'display_data';\n",
              "        await google.colab.output.renderOutput(dataTable, element);\n",
              "        const docLink = document.createElement('div');\n",
              "        docLink.innerHTML = docLinkHtml;\n",
              "        element.appendChild(docLink);\n",
              "      }\n",
              "    </script>\n",
              "  </div>\n",
              "\n",
              "\n",
              "    <div id=\"df-a627b2de-0dde-441a-bf7c-d58077e313bf\">\n",
              "      <button class=\"colab-df-quickchart\" onclick=\"quickchart('df-a627b2de-0dde-441a-bf7c-d58077e313bf')\"\n",
              "                title=\"Suggest charts\"\n",
              "                style=\"display:none;\">\n",
              "\n",
              "<svg xmlns=\"http://www.w3.org/2000/svg\" height=\"24px\"viewBox=\"0 0 24 24\"\n",
              "     width=\"24px\">\n",
              "    <g>\n",
              "        <path d=\"M19 3H5c-1.1 0-2 .9-2 2v14c0 1.1.9 2 2 2h14c1.1 0 2-.9 2-2V5c0-1.1-.9-2-2-2zM9 17H7v-7h2v7zm4 0h-2V7h2v10zm4 0h-2v-4h2v4z\"/>\n",
              "    </g>\n",
              "</svg>\n",
              "      </button>\n",
              "\n",
              "<style>\n",
              "  .colab-df-quickchart {\n",
              "      --bg-color: #E8F0FE;\n",
              "      --fill-color: #1967D2;\n",
              "      --hover-bg-color: #E2EBFA;\n",
              "      --hover-fill-color: #174EA6;\n",
              "      --disabled-fill-color: #AAA;\n",
              "      --disabled-bg-color: #DDD;\n",
              "  }\n",
              "\n",
              "  [theme=dark] .colab-df-quickchart {\n",
              "      --bg-color: #3B4455;\n",
              "      --fill-color: #D2E3FC;\n",
              "      --hover-bg-color: #434B5C;\n",
              "      --hover-fill-color: #FFFFFF;\n",
              "      --disabled-bg-color: #3B4455;\n",
              "      --disabled-fill-color: #666;\n",
              "  }\n",
              "\n",
              "  .colab-df-quickchart {\n",
              "    background-color: var(--bg-color);\n",
              "    border: none;\n",
              "    border-radius: 50%;\n",
              "    cursor: pointer;\n",
              "    display: none;\n",
              "    fill: var(--fill-color);\n",
              "    height: 32px;\n",
              "    padding: 0;\n",
              "    width: 32px;\n",
              "  }\n",
              "\n",
              "  .colab-df-quickchart:hover {\n",
              "    background-color: var(--hover-bg-color);\n",
              "    box-shadow: 0 1px 2px rgba(60, 64, 67, 0.3), 0 1px 3px 1px rgba(60, 64, 67, 0.15);\n",
              "    fill: var(--button-hover-fill-color);\n",
              "  }\n",
              "\n",
              "  .colab-df-quickchart-complete:disabled,\n",
              "  .colab-df-quickchart-complete:disabled:hover {\n",
              "    background-color: var(--disabled-bg-color);\n",
              "    fill: var(--disabled-fill-color);\n",
              "    box-shadow: none;\n",
              "  }\n",
              "\n",
              "  .colab-df-spinner {\n",
              "    border: 2px solid var(--fill-color);\n",
              "    border-color: transparent;\n",
              "    border-bottom-color: var(--fill-color);\n",
              "    animation:\n",
              "      spin 1s steps(1) infinite;\n",
              "  }\n",
              "\n",
              "  @keyframes spin {\n",
              "    0% {\n",
              "      border-color: transparent;\n",
              "      border-bottom-color: var(--fill-color);\n",
              "      border-left-color: var(--fill-color);\n",
              "    }\n",
              "    20% {\n",
              "      border-color: transparent;\n",
              "      border-left-color: var(--fill-color);\n",
              "      border-top-color: var(--fill-color);\n",
              "    }\n",
              "    30% {\n",
              "      border-color: transparent;\n",
              "      border-left-color: var(--fill-color);\n",
              "      border-top-color: var(--fill-color);\n",
              "      border-right-color: var(--fill-color);\n",
              "    }\n",
              "    40% {\n",
              "      border-color: transparent;\n",
              "      border-right-color: var(--fill-color);\n",
              "      border-top-color: var(--fill-color);\n",
              "    }\n",
              "    60% {\n",
              "      border-color: transparent;\n",
              "      border-right-color: var(--fill-color);\n",
              "    }\n",
              "    80% {\n",
              "      border-color: transparent;\n",
              "      border-right-color: var(--fill-color);\n",
              "      border-bottom-color: var(--fill-color);\n",
              "    }\n",
              "    90% {\n",
              "      border-color: transparent;\n",
              "      border-bottom-color: var(--fill-color);\n",
              "    }\n",
              "  }\n",
              "</style>\n",
              "\n",
              "      <script>\n",
              "        async function quickchart(key) {\n",
              "          const quickchartButtonEl =\n",
              "            document.querySelector('#' + key + ' button');\n",
              "          quickchartButtonEl.disabled = true;  // To prevent multiple clicks.\n",
              "          quickchartButtonEl.classList.add('colab-df-spinner');\n",
              "          try {\n",
              "            const charts = await google.colab.kernel.invokeFunction(\n",
              "                'suggestCharts', [key], {});\n",
              "          } catch (error) {\n",
              "            console.error('Error during call to suggestCharts:', error);\n",
              "          }\n",
              "          quickchartButtonEl.classList.remove('colab-df-spinner');\n",
              "          quickchartButtonEl.classList.add('colab-df-quickchart-complete');\n",
              "        }\n",
              "        (() => {\n",
              "          let quickchartButtonEl =\n",
              "            document.querySelector('#df-a627b2de-0dde-441a-bf7c-d58077e313bf button');\n",
              "          quickchartButtonEl.style.display =\n",
              "            google.colab.kernel.accessAllowed ? 'block' : 'none';\n",
              "        })();\n",
              "      </script>\n",
              "    </div>\n",
              "\n",
              "    </div>\n",
              "  </div>\n"
            ],
            "application/vnd.google.colaboratory.intrinsic+json": {
              "type": "dataframe",
              "summary": "{\n  \"name\": \"display(books\",\n  \"rows\": 5,\n  \"fields\": [\n    {\n      \"column\": \"ISBN\",\n      \"properties\": {\n        \"dtype\": \"string\",\n        \"num_unique_values\": 5,\n        \"samples\": [\n          \"0002005018\",\n          \"0393045218\",\n          \"0060973129\"\n        ],\n        \"semantic_type\": \"\",\n        \"description\": \"\"\n      }\n    },\n    {\n      \"column\": \"Book-Title\",\n      \"properties\": {\n        \"dtype\": \"string\",\n        \"num_unique_values\": 5,\n        \"samples\": [\n          \"Clara Callan\",\n          \"The Mummies of Urumchi\",\n          \"Decision in Normandy\"\n        ],\n        \"semantic_type\": \"\",\n        \"description\": \"\"\n      }\n    },\n    {\n      \"column\": \"Book-Author\",\n      \"properties\": {\n        \"dtype\": \"string\",\n        \"num_unique_values\": 5,\n        \"samples\": [\n          \"Richard Bruce Wright\",\n          \"E. J. W. Barber\",\n          \"Carlo D'Este\"\n        ],\n        \"semantic_type\": \"\",\n        \"description\": \"\"\n      }\n    },\n    {\n      \"column\": \"Year-Of-Publication\",\n      \"properties\": {\n        \"dtype\": \"date\",\n        \"min\": 1991,\n        \"max\": 2002,\n        \"num_unique_values\": 4,\n        \"samples\": [\n          2001,\n          1999,\n          2002\n        ],\n        \"semantic_type\": \"\",\n        \"description\": \"\"\n      }\n    },\n    {\n      \"column\": \"Publisher\",\n      \"properties\": {\n        \"dtype\": \"string\",\n        \"num_unique_values\": 5,\n        \"samples\": [\n          \"HarperFlamingo Canada\",\n          \"W. W. Norton &amp; Company\",\n          \"HarperPerennial\"\n        ],\n        \"semantic_type\": \"\",\n        \"description\": \"\"\n      }\n    },\n    {\n      \"column\": \"Image-URL-S\",\n      \"properties\": {\n        \"dtype\": \"string\",\n        \"num_unique_values\": 5,\n        \"samples\": [\n          \"http://images.amazon.com/images/P/0002005018.01.THUMBZZZ.jpg\",\n          \"http://images.amazon.com/images/P/0393045218.01.THUMBZZZ.jpg\",\n          \"http://images.amazon.com/images/P/0060973129.01.THUMBZZZ.jpg\"\n        ],\n        \"semantic_type\": \"\",\n        \"description\": \"\"\n      }\n    },\n    {\n      \"column\": \"Image-URL-M\",\n      \"properties\": {\n        \"dtype\": \"string\",\n        \"num_unique_values\": 5,\n        \"samples\": [\n          \"http://images.amazon.com/images/P/0002005018.01.MZZZZZZZ.jpg\",\n          \"http://images.amazon.com/images/P/0393045218.01.MZZZZZZZ.jpg\",\n          \"http://images.amazon.com/images/P/0060973129.01.MZZZZZZZ.jpg\"\n        ],\n        \"semantic_type\": \"\",\n        \"description\": \"\"\n      }\n    },\n    {\n      \"column\": \"Image-URL-L\",\n      \"properties\": {\n        \"dtype\": \"string\",\n        \"num_unique_values\": 5,\n        \"samples\": [\n          \"http://images.amazon.com/images/P/0002005018.01.LZZZZZZZ.jpg\",\n          \"http://images.amazon.com/images/P/0393045218.01.LZZZZZZZ.jpg\",\n          \"http://images.amazon.com/images/P/0060973129.01.LZZZZZZZ.jpg\"\n        ],\n        \"semantic_type\": \"\",\n        \"description\": \"\"\n      }\n    }\n  ]\n}"
            }
          },
          "metadata": {}
        }
      ],
      "source": [
        "print('Contoh data buku:')\n",
        "display(books.head())"
      ]
    },
    {
      "cell_type": "code",
      "execution_count": 9,
      "metadata": {
        "colab": {
          "base_uri": "https://localhost:8080/"
        },
        "id": "NR9IY06Y-Bg-",
        "outputId": "300e20dd-17d2-439a-803c-3bcc3d4212b2"
      },
      "outputs": [
        {
          "output_type": "stream",
          "name": "stdout",
          "text": [
            "Jumlah judul unik: 242135\n",
            "Jumlah penulis unik: 102022\n",
            "Jumlah penerbit unik: 16807\n",
            "Jumlah tahun terbit unik: 202\n"
          ]
        },
        {
          "output_type": "execute_result",
          "data": {
            "text/plain": [
              "array(['Oxford University Press', 'HarperFlamingo Canada',\n",
              "       'HarperPerennial', 'Farrar Straus Giroux',\n",
              "       'W. W. Norton &amp; Company', 'Putnam Pub Group',\n",
              "       'Berkley Publishing Group', 'Audioworks', 'Random House',\n",
              "       'Scribner'], dtype=object)"
            ]
          },
          "metadata": {},
          "execution_count": 9
        }
      ],
      "source": [
        "print(\"Jumlah judul unik:\", books['Book-Title'].nunique())\n",
        "print(\"Jumlah penulis unik:\", books['Book-Author'].nunique())\n",
        "print(\"Jumlah penerbit unik:\", books['Publisher'].nunique())\n",
        "print(\"Jumlah tahun terbit unik:\", books['Year-Of-Publication'].nunique())\n",
        "books['Publisher'].unique()[:10]  # Menampilkan 10 nilai pertama"
      ]
    },
    {
      "cell_type": "markdown",
      "metadata": {
        "id": "VBULTjn5-kKk"
      },
      "source": [
        "## Users.csv"
      ]
    },
    {
      "cell_type": "code",
      "execution_count": 10,
      "metadata": {
        "colab": {
          "base_uri": "https://localhost:8080/"
        },
        "id": "su0cgJ3k-mz-",
        "outputId": "cab7da1b-58c6-4452-f80d-8ef3b55eb427"
      },
      "outputs": [
        {
          "output_type": "stream",
          "name": "stdout",
          "text": [
            "Users:\n",
            "<class 'pandas.core.frame.DataFrame'>\n",
            "RangeIndex: 278858 entries, 0 to 278857\n",
            "Data columns (total 3 columns):\n",
            " #   Column    Non-Null Count   Dtype  \n",
            "---  ------    --------------   -----  \n",
            " 0   User-ID   278858 non-null  int64  \n",
            " 1   Location  278858 non-null  object \n",
            " 2   Age       168096 non-null  float64\n",
            "dtypes: float64(1), int64(1), object(1)\n",
            "memory usage: 6.4+ MB\n",
            "None \n",
            "\n"
          ]
        }
      ],
      "source": [
        "print('Users:')\n",
        "print(users.info(), '\\n')"
      ]
    },
    {
      "cell_type": "code",
      "execution_count": 11,
      "metadata": {
        "colab": {
          "base_uri": "https://localhost:8080/",
          "height": 224
        },
        "id": "NLsP1ptY-tFw",
        "outputId": "768464eb-f30e-4385-c37c-2a0c462ff4ef"
      },
      "outputs": [
        {
          "output_type": "stream",
          "name": "stdout",
          "text": [
            "Contoh data pengguna:\n"
          ]
        },
        {
          "output_type": "display_data",
          "data": {
            "text/plain": [
              "   User-ID                            Location   Age\n",
              "0        1                  nyc, new york, usa   NaN\n",
              "1        2           stockton, california, usa  18.0\n",
              "2        3     moscow, yukon territory, russia   NaN\n",
              "3        4           porto, v.n.gaia, portugal  17.0\n",
              "4        5  farnborough, hants, united kingdom   NaN"
            ],
            "text/html": [
              "\n",
              "  <div id=\"df-dc169eac-b21d-4ffc-bca4-085895f27b4d\" class=\"colab-df-container\">\n",
              "    <div>\n",
              "<style scoped>\n",
              "    .dataframe tbody tr th:only-of-type {\n",
              "        vertical-align: middle;\n",
              "    }\n",
              "\n",
              "    .dataframe tbody tr th {\n",
              "        vertical-align: top;\n",
              "    }\n",
              "\n",
              "    .dataframe thead th {\n",
              "        text-align: right;\n",
              "    }\n",
              "</style>\n",
              "<table border=\"1\" class=\"dataframe\">\n",
              "  <thead>\n",
              "    <tr style=\"text-align: right;\">\n",
              "      <th></th>\n",
              "      <th>User-ID</th>\n",
              "      <th>Location</th>\n",
              "      <th>Age</th>\n",
              "    </tr>\n",
              "  </thead>\n",
              "  <tbody>\n",
              "    <tr>\n",
              "      <th>0</th>\n",
              "      <td>1</td>\n",
              "      <td>nyc, new york, usa</td>\n",
              "      <td>NaN</td>\n",
              "    </tr>\n",
              "    <tr>\n",
              "      <th>1</th>\n",
              "      <td>2</td>\n",
              "      <td>stockton, california, usa</td>\n",
              "      <td>18.0</td>\n",
              "    </tr>\n",
              "    <tr>\n",
              "      <th>2</th>\n",
              "      <td>3</td>\n",
              "      <td>moscow, yukon territory, russia</td>\n",
              "      <td>NaN</td>\n",
              "    </tr>\n",
              "    <tr>\n",
              "      <th>3</th>\n",
              "      <td>4</td>\n",
              "      <td>porto, v.n.gaia, portugal</td>\n",
              "      <td>17.0</td>\n",
              "    </tr>\n",
              "    <tr>\n",
              "      <th>4</th>\n",
              "      <td>5</td>\n",
              "      <td>farnborough, hants, united kingdom</td>\n",
              "      <td>NaN</td>\n",
              "    </tr>\n",
              "  </tbody>\n",
              "</table>\n",
              "</div>\n",
              "    <div class=\"colab-df-buttons\">\n",
              "\n",
              "  <div class=\"colab-df-container\">\n",
              "    <button class=\"colab-df-convert\" onclick=\"convertToInteractive('df-dc169eac-b21d-4ffc-bca4-085895f27b4d')\"\n",
              "            title=\"Convert this dataframe to an interactive table.\"\n",
              "            style=\"display:none;\">\n",
              "\n",
              "  <svg xmlns=\"http://www.w3.org/2000/svg\" height=\"24px\" viewBox=\"0 -960 960 960\">\n",
              "    <path d=\"M120-120v-720h720v720H120Zm60-500h600v-160H180v160Zm220 220h160v-160H400v160Zm0 220h160v-160H400v160ZM180-400h160v-160H180v160Zm440 0h160v-160H620v160ZM180-180h160v-160H180v160Zm440 0h160v-160H620v160Z\"/>\n",
              "  </svg>\n",
              "    </button>\n",
              "\n",
              "  <style>\n",
              "    .colab-df-container {\n",
              "      display:flex;\n",
              "      gap: 12px;\n",
              "    }\n",
              "\n",
              "    .colab-df-convert {\n",
              "      background-color: #E8F0FE;\n",
              "      border: none;\n",
              "      border-radius: 50%;\n",
              "      cursor: pointer;\n",
              "      display: none;\n",
              "      fill: #1967D2;\n",
              "      height: 32px;\n",
              "      padding: 0 0 0 0;\n",
              "      width: 32px;\n",
              "    }\n",
              "\n",
              "    .colab-df-convert:hover {\n",
              "      background-color: #E2EBFA;\n",
              "      box-shadow: 0px 1px 2px rgba(60, 64, 67, 0.3), 0px 1px 3px 1px rgba(60, 64, 67, 0.15);\n",
              "      fill: #174EA6;\n",
              "    }\n",
              "\n",
              "    .colab-df-buttons div {\n",
              "      margin-bottom: 4px;\n",
              "    }\n",
              "\n",
              "    [theme=dark] .colab-df-convert {\n",
              "      background-color: #3B4455;\n",
              "      fill: #D2E3FC;\n",
              "    }\n",
              "\n",
              "    [theme=dark] .colab-df-convert:hover {\n",
              "      background-color: #434B5C;\n",
              "      box-shadow: 0px 1px 3px 1px rgba(0, 0, 0, 0.15);\n",
              "      filter: drop-shadow(0px 1px 2px rgba(0, 0, 0, 0.3));\n",
              "      fill: #FFFFFF;\n",
              "    }\n",
              "  </style>\n",
              "\n",
              "    <script>\n",
              "      const buttonEl =\n",
              "        document.querySelector('#df-dc169eac-b21d-4ffc-bca4-085895f27b4d button.colab-df-convert');\n",
              "      buttonEl.style.display =\n",
              "        google.colab.kernel.accessAllowed ? 'block' : 'none';\n",
              "\n",
              "      async function convertToInteractive(key) {\n",
              "        const element = document.querySelector('#df-dc169eac-b21d-4ffc-bca4-085895f27b4d');\n",
              "        const dataTable =\n",
              "          await google.colab.kernel.invokeFunction('convertToInteractive',\n",
              "                                                    [key], {});\n",
              "        if (!dataTable) return;\n",
              "\n",
              "        const docLinkHtml = 'Like what you see? Visit the ' +\n",
              "          '<a target=\"_blank\" href=https://colab.research.google.com/notebooks/data_table.ipynb>data table notebook</a>'\n",
              "          + ' to learn more about interactive tables.';\n",
              "        element.innerHTML = '';\n",
              "        dataTable['output_type'] = 'display_data';\n",
              "        await google.colab.output.renderOutput(dataTable, element);\n",
              "        const docLink = document.createElement('div');\n",
              "        docLink.innerHTML = docLinkHtml;\n",
              "        element.appendChild(docLink);\n",
              "      }\n",
              "    </script>\n",
              "  </div>\n",
              "\n",
              "\n",
              "    <div id=\"df-613c890e-666a-4c60-95e6-9a75b65c9e32\">\n",
              "      <button class=\"colab-df-quickchart\" onclick=\"quickchart('df-613c890e-666a-4c60-95e6-9a75b65c9e32')\"\n",
              "                title=\"Suggest charts\"\n",
              "                style=\"display:none;\">\n",
              "\n",
              "<svg xmlns=\"http://www.w3.org/2000/svg\" height=\"24px\"viewBox=\"0 0 24 24\"\n",
              "     width=\"24px\">\n",
              "    <g>\n",
              "        <path d=\"M19 3H5c-1.1 0-2 .9-2 2v14c0 1.1.9 2 2 2h14c1.1 0 2-.9 2-2V5c0-1.1-.9-2-2-2zM9 17H7v-7h2v7zm4 0h-2V7h2v10zm4 0h-2v-4h2v4z\"/>\n",
              "    </g>\n",
              "</svg>\n",
              "      </button>\n",
              "\n",
              "<style>\n",
              "  .colab-df-quickchart {\n",
              "      --bg-color: #E8F0FE;\n",
              "      --fill-color: #1967D2;\n",
              "      --hover-bg-color: #E2EBFA;\n",
              "      --hover-fill-color: #174EA6;\n",
              "      --disabled-fill-color: #AAA;\n",
              "      --disabled-bg-color: #DDD;\n",
              "  }\n",
              "\n",
              "  [theme=dark] .colab-df-quickchart {\n",
              "      --bg-color: #3B4455;\n",
              "      --fill-color: #D2E3FC;\n",
              "      --hover-bg-color: #434B5C;\n",
              "      --hover-fill-color: #FFFFFF;\n",
              "      --disabled-bg-color: #3B4455;\n",
              "      --disabled-fill-color: #666;\n",
              "  }\n",
              "\n",
              "  .colab-df-quickchart {\n",
              "    background-color: var(--bg-color);\n",
              "    border: none;\n",
              "    border-radius: 50%;\n",
              "    cursor: pointer;\n",
              "    display: none;\n",
              "    fill: var(--fill-color);\n",
              "    height: 32px;\n",
              "    padding: 0;\n",
              "    width: 32px;\n",
              "  }\n",
              "\n",
              "  .colab-df-quickchart:hover {\n",
              "    background-color: var(--hover-bg-color);\n",
              "    box-shadow: 0 1px 2px rgba(60, 64, 67, 0.3), 0 1px 3px 1px rgba(60, 64, 67, 0.15);\n",
              "    fill: var(--button-hover-fill-color);\n",
              "  }\n",
              "\n",
              "  .colab-df-quickchart-complete:disabled,\n",
              "  .colab-df-quickchart-complete:disabled:hover {\n",
              "    background-color: var(--disabled-bg-color);\n",
              "    fill: var(--disabled-fill-color);\n",
              "    box-shadow: none;\n",
              "  }\n",
              "\n",
              "  .colab-df-spinner {\n",
              "    border: 2px solid var(--fill-color);\n",
              "    border-color: transparent;\n",
              "    border-bottom-color: var(--fill-color);\n",
              "    animation:\n",
              "      spin 1s steps(1) infinite;\n",
              "  }\n",
              "\n",
              "  @keyframes spin {\n",
              "    0% {\n",
              "      border-color: transparent;\n",
              "      border-bottom-color: var(--fill-color);\n",
              "      border-left-color: var(--fill-color);\n",
              "    }\n",
              "    20% {\n",
              "      border-color: transparent;\n",
              "      border-left-color: var(--fill-color);\n",
              "      border-top-color: var(--fill-color);\n",
              "    }\n",
              "    30% {\n",
              "      border-color: transparent;\n",
              "      border-left-color: var(--fill-color);\n",
              "      border-top-color: var(--fill-color);\n",
              "      border-right-color: var(--fill-color);\n",
              "    }\n",
              "    40% {\n",
              "      border-color: transparent;\n",
              "      border-right-color: var(--fill-color);\n",
              "      border-top-color: var(--fill-color);\n",
              "    }\n",
              "    60% {\n",
              "      border-color: transparent;\n",
              "      border-right-color: var(--fill-color);\n",
              "    }\n",
              "    80% {\n",
              "      border-color: transparent;\n",
              "      border-right-color: var(--fill-color);\n",
              "      border-bottom-color: var(--fill-color);\n",
              "    }\n",
              "    90% {\n",
              "      border-color: transparent;\n",
              "      border-bottom-color: var(--fill-color);\n",
              "    }\n",
              "  }\n",
              "</style>\n",
              "\n",
              "      <script>\n",
              "        async function quickchart(key) {\n",
              "          const quickchartButtonEl =\n",
              "            document.querySelector('#' + key + ' button');\n",
              "          quickchartButtonEl.disabled = true;  // To prevent multiple clicks.\n",
              "          quickchartButtonEl.classList.add('colab-df-spinner');\n",
              "          try {\n",
              "            const charts = await google.colab.kernel.invokeFunction(\n",
              "                'suggestCharts', [key], {});\n",
              "          } catch (error) {\n",
              "            console.error('Error during call to suggestCharts:', error);\n",
              "          }\n",
              "          quickchartButtonEl.classList.remove('colab-df-spinner');\n",
              "          quickchartButtonEl.classList.add('colab-df-quickchart-complete');\n",
              "        }\n",
              "        (() => {\n",
              "          let quickchartButtonEl =\n",
              "            document.querySelector('#df-613c890e-666a-4c60-95e6-9a75b65c9e32 button');\n",
              "          quickchartButtonEl.style.display =\n",
              "            google.colab.kernel.accessAllowed ? 'block' : 'none';\n",
              "        })();\n",
              "      </script>\n",
              "    </div>\n",
              "\n",
              "    </div>\n",
              "  </div>\n"
            ],
            "application/vnd.google.colaboratory.intrinsic+json": {
              "type": "dataframe",
              "summary": "{\n  \"name\": \"display(users\",\n  \"rows\": 5,\n  \"fields\": [\n    {\n      \"column\": \"User-ID\",\n      \"properties\": {\n        \"dtype\": \"number\",\n        \"std\": 1,\n        \"min\": 1,\n        \"max\": 5,\n        \"num_unique_values\": 5,\n        \"samples\": [\n          2,\n          5,\n          3\n        ],\n        \"semantic_type\": \"\",\n        \"description\": \"\"\n      }\n    },\n    {\n      \"column\": \"Location\",\n      \"properties\": {\n        \"dtype\": \"string\",\n        \"num_unique_values\": 5,\n        \"samples\": [\n          \"stockton, california, usa\",\n          \"farnborough, hants, united kingdom\",\n          \"moscow, yukon territory, russia\"\n        ],\n        \"semantic_type\": \"\",\n        \"description\": \"\"\n      }\n    },\n    {\n      \"column\": \"Age\",\n      \"properties\": {\n        \"dtype\": \"number\",\n        \"std\": 0.7071067811865476,\n        \"min\": 17.0,\n        \"max\": 18.0,\n        \"num_unique_values\": 2,\n        \"samples\": [\n          17.0,\n          18.0\n        ],\n        \"semantic_type\": \"\",\n        \"description\": \"\"\n      }\n    }\n  ]\n}"
            }
          },
          "metadata": {}
        }
      ],
      "source": [
        "print('Contoh data pengguna:')\n",
        "display(users.head())"
      ]
    },
    {
      "cell_type": "code",
      "execution_count": 12,
      "metadata": {
        "colab": {
          "base_uri": "https://localhost:8080/"
        },
        "id": "SowkGa6l_P7s",
        "outputId": "fbcabd55-609c-4670-e649-63fcbc7fbc0b"
      },
      "outputs": [
        {
          "output_type": "stream",
          "name": "stdout",
          "text": [
            "Jumlah user unik: 278858\n",
            "Jumlah lokasi unik: 57339\n",
            "Jumlah usia unik: 165\n"
          ]
        }
      ],
      "source": [
        "print(\"Jumlah user unik:\", users['User-ID'].nunique())\n",
        "print(\"Jumlah lokasi unik:\", users['Location'].nunique())\n",
        "print(\"Jumlah usia unik:\", users['Age'].nunique())"
      ]
    },
    {
      "cell_type": "code",
      "execution_count": 13,
      "metadata": {
        "colab": {
          "base_uri": "https://localhost:8080/",
          "height": 522
        },
        "id": "A1ut8M9h_YQw",
        "outputId": "de2aa0f1-7154-4c92-f67b-8d2e354fef0d"
      },
      "outputs": [
        {
          "output_type": "stream",
          "name": "stdout",
          "text": [
            "Usia minimum: 0.0\n",
            "Usia maksimum: 244.0\n"
          ]
        },
        {
          "output_type": "display_data",
          "data": {
            "text/plain": [
              "<Figure size 1000x500 with 1 Axes>"
            ],
            "image/png": "[encoded data removed]"
          },
          "metadata": {}
        }
      ],
      "source": [
        "# Cek nilai usia yang tidak wajar\n",
        "print(\"Usia minimum:\", users['Age'].min())\n",
        "print(\"Usia maksimum:\", users['Age'].max())\n",
        "\n",
        "## Cek distribusi usia\n",
        "users['Age'].describe()\n",
        "\n",
        "## Visualisasi distribusi usia\n",
        "import matplotlib.pyplot as plt\n",
        "plt.figure(figsize=(10,5))\n",
        "users['Age'].hist(bins=50)\n",
        "plt.title('Distribusi Usia Pengguna')\n",
        "plt.xlabel('Usia')\n",
        "plt.ylabel('Jumlah Pengguna')\n",
        "plt.show()"
      ]
    },
    {
      "cell_type": "markdown",
      "metadata": {
        "id": "O5SCVxCdAJLa"
      },
      "source": [
        "**📌 Distribusi Usia Pengguna**\n",
        "- Usia minimum: 0 tahun\n",
        "- Usia maksimum: 244 tahun\n",
        "\n",
        "Terlihat bahwa:\n",
        "- Sebagian besar pengguna berada pada rentang 20-40 tahun.\n",
        "- Terdapat outlier di usia ekstrem (misalnya 0 atau >100) yang sebaiknya difilter."
      ]
    },
    {
      "cell_type": "code",
      "execution_count": 14,
      "metadata": {
        "colab": {
          "base_uri": "https://localhost:8080/"
        },
        "id": "jYuhYTaj_r85",
        "outputId": "c0b8e217-3592-424c-bb47-31cf83a6852b"
      },
      "outputs": [
        {
          "output_type": "stream",
          "name": "stdout",
          "text": [
            "Country\n",
            "usa               139711\n",
            "canada             21658\n",
            "united kingdom     18538\n",
            "germany            17043\n",
            "spain              13147\n",
            "australia          11784\n",
            "italy              11266\n",
            "                    4578\n",
            "france              3455\n",
            "portugal            3325\n",
            "Name: count, dtype: int64\n"
          ]
        }
      ],
      "source": [
        "users['Country'] = users['Location'].apply(lambda x: x.split(',')[-1].strip())\n",
        "top_countries = users['Country'].value_counts().head(10)\n",
        "print(top_countries)"
      ]
    },
    {
      "cell_type": "markdown",
      "metadata": {
        "id": "_ebiOYPPAT2m"
      },
      "source": [
        "**🌍Top 10 negara asal pengguna:**\n",
        "1. USA             → 139.711 pengguna\n",
        "2. Canada          →  21.658\n",
        "3. United Kingdom  →  18.538\n",
        "4. Germany         →  17.043\n",
        "5. Spain           →  13.147\n",
        "6. Australia       →  11.784\n",
        "7. Italy           →  11.266\n",
        "9. Unknown         →   4.575\n",
        "8. France          →   3.455\n",
        "9. Portugal        →   3.325\n",
        "\n",
        "Terdapat 4.575 pengguna yang tidak memiliki informasi negara (entah kosong atau data error)."
      ]
    },
    {
      "cell_type": "markdown",
      "metadata": {
        "id": "MGvkmRORB0dK"
      },
      "source": [
        "##Ratings.csv"
      ]
    },
    {
      "cell_type": "code",
      "execution_count": 15,
      "metadata": {
        "colab": {
          "base_uri": "https://localhost:8080/"
        },
        "id": "FlqWxf7PAaD_",
        "outputId": "bea06b81-8970-47e8-8286-825a829f9bb6"
      },
      "outputs": [
        {
          "output_type": "stream",
          "name": "stdout",
          "text": [
            "Ratings:\n",
            "<class 'pandas.core.frame.DataFrame'>\n",
            "RangeIndex: 1149780 entries, 0 to 1149779\n",
            "Data columns (total 3 columns):\n",
            " #   Column       Non-Null Count    Dtype \n",
            "---  ------       --------------    ----- \n",
            " 0   User-ID      1149780 non-null  int64 \n",
            " 1   ISBN         1149780 non-null  object\n",
            " 2   Book-Rating  1149780 non-null  int64 \n",
            "dtypes: int64(2), object(1)\n",
            "memory usage: 26.3+ MB\n",
            "None\n"
          ]
        }
      ],
      "source": [
        "print('Ratings:')\n",
        "print(ratings.info())"
      ]
    },
    {
      "cell_type": "code",
      "execution_count": 16,
      "metadata": {
        "colab": {
          "base_uri": "https://localhost:8080/",
          "height": 224
        },
        "id": "fBKtgocfCPqB",
        "outputId": "556d6391-9520-415a-c3ca-d00ec1c049f9"
      },
      "outputs": [
        {
          "output_type": "stream",
          "name": "stdout",
          "text": [
            "Contoh data rating:\n"
          ]
        },
        {
          "output_type": "display_data",
          "data": {
            "text/plain": [
              "   User-ID        ISBN  Book-Rating\n",
              "0   276725  034545104X            0\n",
              "1   276726  0155061224            5\n",
              "2   276727  0446520802            0\n",
              "3   276729  052165615X            3\n",
              "4   276729  0521795028            6"
            ],
            "text/html": [
              "\n",
              "  <div id=\"df-57dae179-81b2-444c-9433-8cd6b34fa134\" class=\"colab-df-container\">\n",
              "    <div>\n",
              "<style scoped>\n",
              "    .dataframe tbody tr th:only-of-type {\n",
              "        vertical-align: middle;\n",
              "    }\n",
              "\n",
              "    .dataframe tbody tr th {\n",
              "        vertical-align: top;\n",
              "    }\n",
              "\n",
              "    .dataframe thead th {\n",
              "        text-align: right;\n",
              "    }\n",
              "</style>\n",
              "<table border=\"1\" class=\"dataframe\">\n",
              "  <thead>\n",
              "    <tr style=\"text-align: right;\">\n",
              "      <th></th>\n",
              "      <th>User-ID</th>\n",
              "      <th>ISBN</th>\n",
              "      <th>Book-Rating</th>\n",
              "    </tr>\n",
              "  </thead>\n",
              "  <tbody>\n",
              "    <tr>\n",
              "      <th>0</th>\n",
              "      <td>276725</td>\n",
              "      <td>034545104X</td>\n",
              "      <td>0</td>\n",
              "    </tr>\n",
              "    <tr>\n",
              "      <th>1</th>\n",
              "      <td>276726</td>\n",
              "      <td>0155061224</td>\n",
              "      <td>5</td>\n",
              "    </tr>\n",
              "    <tr>\n",
              "      <th>2</th>\n",
              "      <td>276727</td>\n",
              "      <td>0446520802</td>\n",
              "      <td>0</td>\n",
              "    </tr>\n",
              "    <tr>\n",
              "      <th>3</th>\n",
              "      <td>276729</td>\n",
              "      <td>052165615X</td>\n",
              "      <td>3</td>\n",
              "    </tr>\n",
              "    <tr>\n",
              "      <th>4</th>\n",
              "      <td>276729</td>\n",
              "      <td>0521795028</td>\n",
              "      <td>6</td>\n",
              "    </tr>\n",
              "  </tbody>\n",
              "</table>\n",
              "</div>\n",
              "    <div class=\"colab-df-buttons\">\n",
              "\n",
              "  <div class=\"colab-df-container\">\n",
              "    <button class=\"colab-df-convert\" onclick=\"convertToInteractive('df-57dae179-81b2-444c-9433-8cd6b34fa134')\"\n",
              "            title=\"Convert this dataframe to an interactive table.\"\n",
              "            style=\"display:none;\">\n",
              "\n",
              "  <svg xmlns=\"http://www.w3.org/2000/svg\" height=\"24px\" viewBox=\"0 -960 960 960\">\n",
              "    <path d=\"M120-120v-720h720v720H120Zm60-500h600v-160H180v160Zm220 220h160v-160H400v160Zm0 220h160v-160H400v160ZM180-400h160v-160H180v160Zm440 0h160v-160H620v160ZM180-180h160v-160H180v160Zm440 0h160v-160H620v160Z\"/>\n",
              "  </svg>\n",
              "    </button>\n",
              "\n",
              "  <style>\n",
              "    .colab-df-container {\n",
              "      display:flex;\n",
              "      gap: 12px;\n",
              "    }\n",
              "\n",
              "    .colab-df-convert {\n",
              "      background-color: #E8F0FE;\n",
              "      border: none;\n",
              "      border-radius: 50%;\n",
              "      cursor: pointer;\n",
              "      display: none;\n",
              "      fill: #1967D2;\n",
              "      height: 32px;\n",
              "      padding: 0 0 0 0;\n",
              "      width: 32px;\n",
              "    }\n",
              "\n",
              "    .colab-df-convert:hover {\n",
              "      background-color: #E2EBFA;\n",
              "      box-shadow: 0px 1px 2px rgba(60, 64, 67, 0.3), 0px 1px 3px 1px rgba(60, 64, 67, 0.15);\n",
              "      fill: #174EA6;\n",
              "    }\n",
              "\n",
              "    .colab-df-buttons div {\n",
              "      margin-bottom: 4px;\n",
              "    }\n",
              "\n",
              "    [theme=dark] .colab-df-convert {\n",
              "      background-color: #3B4455;\n",
              "      fill: #D2E3FC;\n",
              "    }\n",
              "\n",
              "    [theme=dark] .colab-df-convert:hover {\n",
              "      background-color: #434B5C;\n",
              "      box-shadow: 0px 1px 3px 1px rgba(0, 0, 0, 0.15);\n",
              "      filter: drop-shadow(0px 1px 2px rgba(0, 0, 0, 0.3));\n",
              "      fill: #FFFFFF;\n",
              "    }\n",
              "  </style>\n",
              "\n",
              "    <script>\n",
              "      const buttonEl =\n",
              "        document.querySelector('#df-57dae179-81b2-444c-9433-8cd6b34fa134 button.colab-df-convert');\n",
              "      buttonEl.style.display =\n",
              "        google.colab.kernel.accessAllowed ? 'block' : 'none';\n",
              "\n",
              "      async function convertToInteractive(key) {\n",
              "        const element = document.querySelector('#df-57dae179-81b2-444c-9433-8cd6b34fa134');\n",
              "        const dataTable =\n",
              "          await google.colab.kernel.invokeFunction('convertToInteractive',\n",
              "                                                    [key], {});\n",
              "        if (!dataTable) return;\n",
              "\n",
              "        const docLinkHtml = 'Like what you see? Visit the ' +\n",
              "          '<a target=\"_blank\" href=https://colab.research.google.com/notebooks/data_table.ipynb>data table notebook</a>'\n",
              "          + ' to learn more about interactive tables.';\n",
              "        element.innerHTML = '';\n",
              "        dataTable['output_type'] = 'display_data';\n",
              "        await google.colab.output.renderOutput(dataTable, element);\n",
              "        const docLink = document.createElement('div');\n",
              "        docLink.innerHTML = docLinkHtml;\n",
              "        element.appendChild(docLink);\n",
              "      }\n",
              "    </script>\n",
              "  </div>\n",
              "\n",
              "\n",
              "    <div id=\"df-52361d83-4b2b-4d62-9e52-3eed02f27ede\">\n",
              "      <button class=\"colab-df-quickchart\" onclick=\"quickchart('df-52361d83-4b2b-4d62-9e52-3eed02f27ede')\"\n",
              "                title=\"Suggest charts\"\n",
              "                style=\"display:none;\">\n",
              "\n",
              "<svg xmlns=\"http://www.w3.org/2000/svg\" height=\"24px\"viewBox=\"0 0 24 24\"\n",
              "     width=\"24px\">\n",
              "    <g>\n",
              "        <path d=\"M19 3H5c-1.1 0-2 .9-2 2v14c0 1.1.9 2 2 2h14c1.1 0 2-.9 2-2V5c0-1.1-.9-2-2-2zM9 17H7v-7h2v7zm4 0h-2V7h2v10zm4 0h-2v-4h2v4z\"/>\n",
              "    </g>\n",
              "</svg>\n",
              "      </button>\n",
              "\n",
              "<style>\n",
              "  .colab-df-quickchart {\n",
              "      --bg-color: #E8F0FE;\n",
              "      --fill-color: #1967D2;\n",
              "      --hover-bg-color: #E2EBFA;\n",
              "      --hover-fill-color: #174EA6;\n",
              "      --disabled-fill-color: #AAA;\n",
              "      --disabled-bg-color: #DDD;\n",
              "  }\n",
              "\n",
              "  [theme=dark] .colab-df-quickchart {\n",
              "      --bg-color: #3B4455;\n",
              "      --fill-color: #D2E3FC;\n",
              "      --hover-bg-color: #434B5C;\n",
              "      --hover-fill-color: #FFFFFF;\n",
              "      --disabled-bg-color: #3B4455;\n",
              "      --disabled-fill-color: #666;\n",
              "  }\n",
              "\n",
              "  .colab-df-quickchart {\n",
              "    background-color: var(--bg-color);\n",
              "    border: none;\n",
              "    border-radius: 50%;\n",
              "    cursor: pointer;\n",
              "    display: none;\n",
              "    fill: var(--fill-color);\n",
              "    height: 32px;\n",
              "    padding: 0;\n",
              "    width: 32px;\n",
              "  }\n",
              "\n",
              "  .colab-df-quickchart:hover {\n",
              "    background-color: var(--hover-bg-color);\n",
              "    box-shadow: 0 1px 2px rgba(60, 64, 67, 0.3), 0 1px 3px 1px rgba(60, 64, 67, 0.15);\n",
              "    fill: var(--button-hover-fill-color);\n",
              "  }\n",
              "\n",
              "  .colab-df-quickchart-complete:disabled,\n",
              "  .colab-df-quickchart-complete:disabled:hover {\n",
              "    background-color: var(--disabled-bg-color);\n",
              "    fill: var(--disabled-fill-color);\n",
              "    box-shadow: none;\n",
              "  }\n",
              "\n",
              "  .colab-df-spinner {\n",
              "    border: 2px solid var(--fill-color);\n",
              "    border-color: transparent;\n",
              "    border-bottom-color: var(--fill-color);\n",
              "    animation:\n",
              "      spin 1s steps(1) infinite;\n",
              "  }\n",
              "\n",
              "  @keyframes spin {\n",
              "    0% {\n",
              "      border-color: transparent;\n",
              "      border-bottom-color: var(--fill-color);\n",
              "      border-left-color: var(--fill-color);\n",
              "    }\n",
              "    20% {\n",
              "      border-color: transparent;\n",
              "      border-left-color: var(--fill-color);\n",
              "      border-top-color: var(--fill-color);\n",
              "    }\n",
              "    30% {\n",
              "      border-color: transparent;\n",
              "      border-left-color: var(--fill-color);\n",
              "      border-top-color: var(--fill-color);\n",
              "      border-right-color: var(--fill-color);\n",
              "    }\n",
              "    40% {\n",
              "      border-color: transparent;\n",
              "      border-right-color: var(--fill-color);\n",
              "      border-top-color: var(--fill-color);\n",
              "    }\n",
              "    60% {\n",
              "      border-color: transparent;\n",
              "      border-right-color: var(--fill-color);\n",
              "    }\n",
              "    80% {\n",
              "      border-color: transparent;\n",
              "      border-right-color: var(--fill-color);\n",
              "      border-bottom-color: var(--fill-color);\n",
              "    }\n",
              "    90% {\n",
              "      border-color: transparent;\n",
              "      border-bottom-color: var(--fill-color);\n",
              "    }\n",
              "  }\n",
              "</style>\n",
              "\n",
              "      <script>\n",
              "        async function quickchart(key) {\n",
              "          const quickchartButtonEl =\n",
              "            document.querySelector('#' + key + ' button');\n",
              "          quickchartButtonEl.disabled = true;  // To prevent multiple clicks.\n",
              "          quickchartButtonEl.classList.add('colab-df-spinner');\n",
              "          try {\n",
              "            const charts = await google.colab.kernel.invokeFunction(\n",
              "                'suggestCharts', [key], {});\n",
              "          } catch (error) {\n",
              "            console.error('Error during call to suggestCharts:', error);\n",
              "          }\n",
              "          quickchartButtonEl.classList.remove('colab-df-spinner');\n",
              "          quickchartButtonEl.classList.add('colab-df-quickchart-complete');\n",
              "        }\n",
              "        (() => {\n",
              "          let quickchartButtonEl =\n",
              "            document.querySelector('#df-52361d83-4b2b-4d62-9e52-3eed02f27ede button');\n",
              "          quickchartButtonEl.style.display =\n",
              "            google.colab.kernel.accessAllowed ? 'block' : 'none';\n",
              "        })();\n",
              "      </script>\n",
              "    </div>\n",
              "\n",
              "    </div>\n",
              "  </div>\n"
            ],
            "application/vnd.google.colaboratory.intrinsic+json": {
              "type": "dataframe",
              "summary": "{\n  \"name\": \"display(ratings\",\n  \"rows\": 5,\n  \"fields\": [\n    {\n      \"column\": \"User-ID\",\n      \"properties\": {\n        \"dtype\": \"number\",\n        \"std\": 1,\n        \"min\": 276725,\n        \"max\": 276729,\n        \"num_unique_values\": 4,\n        \"samples\": [\n          276726,\n          276729,\n          276725\n        ],\n        \"semantic_type\": \"\",\n        \"description\": \"\"\n      }\n    },\n    {\n      \"column\": \"ISBN\",\n      \"properties\": {\n        \"dtype\": \"string\",\n        \"num_unique_values\": 5,\n        \"samples\": [\n          \"0155061224\",\n          \"0521795028\",\n          \"0446520802\"\n        ],\n        \"semantic_type\": \"\",\n        \"description\": \"\"\n      }\n    },\n    {\n      \"column\": \"Book-Rating\",\n      \"properties\": {\n        \"dtype\": \"number\",\n        \"std\": 2,\n        \"min\": 0,\n        \"max\": 6,\n        \"num_unique_values\": 4,\n        \"samples\": [\n          5,\n          6,\n          0\n        ],\n        \"semantic_type\": \"\",\n        \"description\": \"\"\n      }\n    }\n  ]\n}"
            }
          },
          "metadata": {}
        }
      ],
      "source": [
        "print('Contoh data rating:')\n",
        "display(ratings.head())"
      ]
    },
    {
      "cell_type": "code",
      "execution_count": 17,
      "metadata": {
        "colab": {
          "base_uri": "https://localhost:8080/"
        },
        "id": "OJ0bPabZCT_l",
        "outputId": "ca8d201b-abf9-4a92-93fe-173457484cba"
      },
      "outputs": [
        {
          "output_type": "stream",
          "name": "stdout",
          "text": [
            "Jumlah rating unik      : 11\n",
            "Nilai rating minimum    : 0\n",
            "Nilai rating maksimum   : 10\n",
            "Jumlah user unik        : 105283\n",
            "Jumlah buku yang dirating: 340556\n"
          ]
        }
      ],
      "source": [
        "# Cek jumlah nilai unik\n",
        "print(\"Jumlah rating unik      :\", ratings['Book-Rating'].nunique())\n",
        "print(\"Nilai rating minimum    :\", ratings['Book-Rating'].min())\n",
        "print(\"Nilai rating maksimum   :\", ratings['Book-Rating'].max())\n",
        "print(\"Jumlah user unik        :\", ratings['User-ID'].nunique())\n",
        "print(\"Jumlah buku yang dirating:\", ratings['ISBN'].nunique())"
      ]
    },
    {
      "cell_type": "code",
      "execution_count": 18,
      "metadata": {
        "colab": {
          "base_uri": "https://localhost:8080/",
          "height": 594
        },
        "id": "twn6rt9EChkT",
        "outputId": "3b914bd4-9e7f-427a-859f-d905ed8f9263"
      },
      "outputs": [
        {
          "output_type": "stream",
          "name": "stderr",
          "text": [
            "<ipython-input-18-2367100478>:3: FutureWarning: \n",
            "\n",
            "Passing `palette` without assigning `hue` is deprecated and will be removed in v0.14.0. Assign the `x` variable to `hue` and set `legend=False` for the same effect.\n",
            "\n",
            "  sns.countplot(x='Book-Rating', data=ratings, palette='viridis')\n"
          ]
        },
        {
          "output_type": "display_data",
          "data": {
            "text/plain": [
              "<Figure size 800x500 with 1 Axes>"
            ],
            "image/png": "[encoded data removed]"
          },
          "metadata": {}
        }
      ],
      "source": [
        "# Visualisasi Distribusi Rating\n",
        "plt.figure(figsize=(8,5))\n",
        "sns.countplot(x='Book-Rating', data=ratings, palette='viridis')\n",
        "plt.title('Distribusi Rating Buku')\n",
        "plt.xlabel('Rating')\n",
        "plt.ylabel('Jumlah')\n",
        "plt.show()"
      ]
    },
    {
      "cell_type": "markdown",
      "metadata": {
        "id": "U0dHAkqWC6DU"
      },
      "source": [
        "**Distribusi rating sangat tidak seimbang:**\n",
        "\n",
        "- Rating 0 mendominasi total data (lebih dari 700.000 entri!)\n",
        "- Rating dengan nilai tinggi (8-10) jauh lebih sedikit.\n",
        "\n",
        "Hal ini menunjukkan bahwa sebagian besar pengguna tidak memberikan rating eksplisit."
      ]
    },
    {
      "cell_type": "markdown",
      "metadata": {
        "id": "eKagi3NLDCdd"
      },
      "source": [
        "#Data Preprocessing"
      ]
    },
    {
      "cell_type": "markdown",
      "metadata": {
        "id": "gwUOvg9oDtRs"
      },
      "source": [
        "##1. Filter rating\n",
        "\n",
        "Karena rating 0 artinya pengguna tidak benar-benar menilai buku, kita hanya gunakan rating > 0."
      ]
    },
    {
      "cell_type": "code",
      "execution_count": 20,
      "metadata": {
        "id": "bsQ1i1tnC-ro"
      },
      "outputs": [],
      "source": [
        "ratings = ratings[ratings['Book-Rating'] > 0]"
      ]
    },
    {
      "cell_type": "markdown",
      "metadata": {
        "id": "-6wyLtrSEHDJ"
      },
      "source": [
        "##2. Filter User & Buku yang Aktif\n",
        "\n",
        "Untuk menghindari data yang terlalu sparse (jarang), kita hanya ambil:\n",
        "- User yang memberi minimal 5 rating\n",
        "- Buku yang dirating minimal 5 kali"
      ]
    },
    {
      "cell_type": "code",
      "execution_count": 21,
      "metadata": {
        "id": "UZD3ywIOEJiS"
      },
      "outputs": [],
      "source": [
        "# Hitung jumlah rating per user\n",
        "active_users = ratings['User-ID'].value_counts()\n",
        "ratings = ratings[ratings['User-ID'].isin(active_users[active_users >= 5].index)]\n",
        "\n",
        "# Hitung jumlah rating per buku\n",
        "popular_books = ratings['ISBN'].value_counts()\n",
        "ratings = ratings[ratings['ISBN'].isin(popular_books[popular_books >= 5].index)]"
      ]
    },
    {
      "cell_type": "code",
      "execution_count": 22,
      "metadata": {
        "colab": {
          "base_uri": "https://localhost:8080/"
        },
        "id": "FfrD4EenFBiB",
        "outputId": "da4b2988-b0a1-4e33-f5e7-2057d4d229aa"
      },
      "outputs": [
        {
          "output_type": "stream",
          "name": "stdout",
          "text": [
            "Top 10 pengguna dengan jumlah rating terbanyak:\n",
            "User-ID\n",
            "11676     8524\n",
            "98391     5802\n",
            "153662    1969\n",
            "189835    1906\n",
            "23902     1395\n",
            "76499     1036\n",
            "171118    1035\n",
            "235105    1023\n",
            "16795      968\n",
            "248718     948\n",
            "Name: count, dtype: int64\n"
          ]
        }
      ],
      "source": [
        "# Tampilkan 10 user dengan rating terbanyak\n",
        "print(\"Top 10 pengguna dengan jumlah rating terbanyak:\")\n",
        "print(active_users.head(10))"
      ]
    },
    {
      "cell_type": "markdown",
      "metadata": {
        "id": "GfMGYzFzFLJx"
      },
      "source": [
        "##3. Gabungkan Data Rating + Buku"
      ]
    },
    {
      "cell_type": "code",
      "execution_count": 23,
      "metadata": {
        "id": "QZuU_6teEdS_"
      },
      "outputs": [],
      "source": [
        "ratings = ratings.merge(books, on='ISBN')"
      ]
    },
    {
      "cell_type": "code",
      "execution_count": 24,
      "metadata": {
        "colab": {
          "base_uri": "https://localhost:8080/",
          "height": 417
        },
        "id": "0lYK7fn2EvIR",
        "outputId": "d0a6e60a-aa43-4359-bfe0-1deef907cf17"
      },
      "outputs": [
        {
          "output_type": "stream",
          "name": "stdout",
          "text": [
            "Jumlah data ratings akhir: 137214\n"
          ]
        },
        {
          "output_type": "execute_result",
          "data": {
            "text/plain": [
              "   User-ID        ISBN  Book-Rating                         Book-Title  \\\n",
              "0   276747  0060517794            9           Little Altars Everywhere   \n",
              "1   276747  0671537458            9                  Waiting to Exhale   \n",
              "2   276747  0679776818            8  Birdsong: A Novel of Love and War   \n",
              "3   276822  0060096195           10                  The Boy Next Door   \n",
              "4   276822  0375821813            9          Hoot (Newbery Honor Book)   \n",
              "\n",
              "        Book-Author Year-Of-Publication                      Publisher  \\\n",
              "0     Rebecca Wells                2003                    HarperTorch   \n",
              "1    Terry McMillan                1995                         Pocket   \n",
              "2  Sebastian Faulks                1997              Vintage Books USA   \n",
              "3      Meggin Cabot                2002                     Avon Trade   \n",
              "4      CARL HIAASEN                2002  Knopf Books for Young Readers   \n",
              "\n",
              "                                         Image-URL-S  \\\n",
              "0  http://images.amazon.com/images/P/0060517794.0...   \n",
              "1  http://images.amazon.com/images/P/0671537458.0...   \n",
              "2  http://images.amazon.com/images/P/0679776818.0...   \n",
              "3  http://images.amazon.com/images/P/0060096195.0...   \n",
              "4  http://images.amazon.com/images/P/0375821813.0...   \n",
              "\n",
              "                                         Image-URL-M  \\\n",
              "0  http://images.amazon.com/images/P/0060517794.0...   \n",
              "1  http://images.amazon.com/images/P/0671537458.0...   \n",
              "2  http://images.amazon.com/images/P/0679776818.0...   \n",
              "3  http://images.amazon.com/images/P/0060096195.0...   \n",
              "4  http://images.amazon.com/images/P/0375821813.0...   \n",
              "\n",
              "                                         Image-URL-L  \n",
              "0  http://images.amazon.com/images/P/0060517794.0...  \n",
              "1  http://images.amazon.com/images/P/0671537458.0...  \n",
              "2  http://images.amazon.com/images/P/0679776818.0...  \n",
              "3  http://images.amazon.com/images/P/0060096195.0...  \n",
              "4  http://images.amazon.com/images/P/0375821813.0...  "
            ],
            "text/html": [
              "\n",
              "  <div id=\"df-9ec25892-373d-443d-9a97-bc5399e12b17\" class=\"colab-df-container\">\n",
              "    <div>\n",
              "<style scoped>\n",
              "    .dataframe tbody tr th:only-of-type {\n",
              "        vertical-align: middle;\n",
              "    }\n",
              "\n",
              "    .dataframe tbody tr th {\n",
              "        vertical-align: top;\n",
              "    }\n",
              "\n",
              "    .dataframe thead th {\n",
              "        text-align: right;\n",
              "    }\n",
              "</style>\n",
              "<table border=\"1\" class=\"dataframe\">\n",
              "  <thead>\n",
              "    <tr style=\"text-align: right;\">\n",
              "      <th></th>\n",
              "      <th>User-ID</th>\n",
              "      <th>ISBN</th>\n",
              "      <th>Book-Rating</th>\n",
              "      <th>Book-Title</th>\n",
              "      <th>Book-Author</th>\n",
              "      <th>Year-Of-Publication</th>\n",
              "      <th>Publisher</th>\n",
              "      <th>Image-URL-S</th>\n",
              "      <th>Image-URL-M</th>\n",
              "      <th>Image-URL-L</th>\n",
              "    </tr>\n",
              "  </thead>\n",
              "  <tbody>\n",
              "    <tr>\n",
              "      <th>0</th>\n",
              "      <td>276747</td>\n",
              "      <td>0060517794</td>\n",
              "      <td>9</td>\n",
              "      <td>Little Altars Everywhere</td>\n",
              "      <td>Rebecca Wells</td>\n",
              "      <td>2003</td>\n",
              "      <td>HarperTorch</td>\n",
              "      <td>http://images.amazon.com/images/P/0060517794.0...</td>\n",
              "      <td>http://images.amazon.com/images/P/0060517794.0...</td>\n",
              "      <td>http://images.amazon.com/images/P/0060517794.0...</td>\n",
              "    </tr>\n",
              "    <tr>\n",
              "      <th>1</th>\n",
              "      <td>276747</td>\n",
              "      <td>0671537458</td>\n",
              "      <td>9</td>\n",
              "      <td>Waiting to Exhale</td>\n",
              "      <td>Terry McMillan</td>\n",
              "      <td>1995</td>\n",
              "      <td>Pocket</td>\n",
              "      <td>http://images.amazon.com/images/P/0671537458.0...</td>\n",
              "      <td>http://images.amazon.com/images/P/0671537458.0...</td>\n",
              "      <td>http://images.amazon.com/images/P/0671537458.0...</td>\n",
              "    </tr>\n",
              "    <tr>\n",
              "      <th>2</th>\n",
              "      <td>276747</td>\n",
              "      <td>0679776818</td>\n",
              "      <td>8</td>\n",
              "      <td>Birdsong: A Novel of Love and War</td>\n",
              "      <td>Sebastian Faulks</td>\n",
              "      <td>1997</td>\n",
              "      <td>Vintage Books USA</td>\n",
              "      <td>http://images.amazon.com/images/P/0679776818.0...</td>\n",
              "      <td>http://images.amazon.com/images/P/0679776818.0...</td>\n",
              "      <td>http://images.amazon.com/images/P/0679776818.0...</td>\n",
              "    </tr>\n",
              "    <tr>\n",
              "      <th>3</th>\n",
              "      <td>276822</td>\n",
              "      <td>0060096195</td>\n",
              "      <td>10</td>\n",
              "      <td>The Boy Next Door</td>\n",
              "      <td>Meggin Cabot</td>\n",
              "      <td>2002</td>\n",
              "      <td>Avon Trade</td>\n",
              "      <td>http://images.amazon.com/images/P/0060096195.0...</td>\n",
              "      <td>http://images.amazon.com/images/P/0060096195.0...</td>\n",
              "      <td>http://images.amazon.com/images/P/0060096195.0...</td>\n",
              "    </tr>\n",
              "    <tr>\n",
              "      <th>4</th>\n",
              "      <td>276822</td>\n",
              "      <td>0375821813</td>\n",
              "      <td>9</td>\n",
              "      <td>Hoot (Newbery Honor Book)</td>\n",
              "      <td>CARL HIAASEN</td>\n",
              "      <td>2002</td>\n",
              "      <td>Knopf Books for Young Readers</td>\n",
              "      <td>http://images.amazon.com/images/P/0375821813.0...</td>\n",
              "      <td>http://images.amazon.com/images/P/0375821813.0...</td>\n",
              "      <td>http://images.amazon.com/images/P/0375821813.0...</td>\n",
              "    </tr>\n",
              "  </tbody>\n",
              "</table>\n",
              "</div>\n",
              "    <div class=\"colab-df-buttons\">\n",
              "\n",
              "  <div class=\"colab-df-container\">\n",
              "    <button class=\"colab-df-convert\" onclick=\"convertToInteractive('df-9ec25892-373d-443d-9a97-bc5399e12b17')\"\n",
              "            title=\"Convert this dataframe to an interactive table.\"\n",
              "            style=\"display:none;\">\n",
              "\n",
              "  <svg xmlns=\"http://www.w3.org/2000/svg\" height=\"24px\" viewBox=\"0 -960 960 960\">\n",
              "    <path d=\"M120-120v-720h720v720H120Zm60-500h600v-160H180v160Zm220 220h160v-160H400v160Zm0 220h160v-160H400v160ZM180-400h160v-160H180v160Zm440 0h160v-160H620v160ZM180-180h160v-160H180v160Zm440 0h160v-160H620v160Z\"/>\n",
              "  </svg>\n",
              "    </button>\n",
              "\n",
              "  <style>\n",
              "    .colab-df-container {\n",
              "      display:flex;\n",
              "      gap: 12px;\n",
              "    }\n",
              "\n",
              "    .colab-df-convert {\n",
              "      background-color: #E8F0FE;\n",
              "      border: none;\n",
              "      border-radius: 50%;\n",
              "      cursor: pointer;\n",
              "      display: none;\n",
              "      fill: #1967D2;\n",
              "      height: 32px;\n",
              "      padding: 0 0 0 0;\n",
              "      width: 32px;\n",
              "    }\n",
              "\n",
              "    .colab-df-convert:hover {\n",
              "      background-color: #E2EBFA;\n",
              "      box-shadow: 0px 1px 2px rgba(60, 64, 67, 0.3), 0px 1px 3px 1px rgba(60, 64, 67, 0.15);\n",
              "      fill: #174EA6;\n",
              "    }\n",
              "\n",
              "    .colab-df-buttons div {\n",
              "      margin-bottom: 4px;\n",
              "    }\n",
              "\n",
              "    [theme=dark] .colab-df-convert {\n",
              "      background-color: #3B4455;\n",
              "      fill: #D2E3FC;\n",
              "    }\n",
              "\n",
              "    [theme=dark] .colab-df-convert:hover {\n",
              "      background-color: #434B5C;\n",
              "      box-shadow: 0px 1px 3px 1px rgba(0, 0, 0, 0.15);\n",
              "      filter: drop-shadow(0px 1px 2px rgba(0, 0, 0, 0.3));\n",
              "      fill: #FFFFFF;\n",
              "    }\n",
              "  </style>\n",
              "\n",
              "    <script>\n",
              "      const buttonEl =\n",
              "        document.querySelector('#df-9ec25892-373d-443d-9a97-bc5399e12b17 button.colab-df-convert');\n",
              "      buttonEl.style.display =\n",
              "        google.colab.kernel.accessAllowed ? 'block' : 'none';\n",
              "\n",
              "      async function convertToInteractive(key) {\n",
              "        const element = document.querySelector('#df-9ec25892-373d-443d-9a97-bc5399e12b17');\n",
              "        const dataTable =\n",
              "          await google.colab.kernel.invokeFunction('convertToInteractive',\n",
              "                                                    [key], {});\n",
              "        if (!dataTable) return;\n",
              "\n",
              "        const docLinkHtml = 'Like what you see? Visit the ' +\n",
              "          '<a target=\"_blank\" href=https://colab.research.google.com/notebooks/data_table.ipynb>data table notebook</a>'\n",
              "          + ' to learn more about interactive tables.';\n",
              "        element.innerHTML = '';\n",
              "        dataTable['output_type'] = 'display_data';\n",
              "        await google.colab.output.renderOutput(dataTable, element);\n",
              "        const docLink = document.createElement('div');\n",
              "        docLink.innerHTML = docLinkHtml;\n",
              "        element.appendChild(docLink);\n",
              "      }\n",
              "    </script>\n",
              "  </div>\n",
              "\n",
              "\n",
              "    <div id=\"df-3ac5e5c5-dadd-44a8-b0ec-f68f051fb3fe\">\n",
              "      <button class=\"colab-df-quickchart\" onclick=\"quickchart('df-3ac5e5c5-dadd-44a8-b0ec-f68f051fb3fe')\"\n",
              "                title=\"Suggest charts\"\n",
              "                style=\"display:none;\">\n",
              "\n",
              "<svg xmlns=\"http://www.w3.org/2000/svg\" height=\"24px\"viewBox=\"0 0 24 24\"\n",
              "     width=\"24px\">\n",
              "    <g>\n",
              "        <path d=\"M19 3H5c-1.1 0-2 .9-2 2v14c0 1.1.9 2 2 2h14c1.1 0 2-.9 2-2V5c0-1.1-.9-2-2-2zM9 17H7v-7h2v7zm4 0h-2V7h2v10zm4 0h-2v-4h2v4z\"/>\n",
              "    </g>\n",
              "</svg>\n",
              "      </button>\n",
              "\n",
              "<style>\n",
              "  .colab-df-quickchart {\n",
              "      --bg-color: #E8F0FE;\n",
              "      --fill-color: #1967D2;\n",
              "      --hover-bg-color: #E2EBFA;\n",
              "      --hover-fill-color: #174EA6;\n",
              "      --disabled-fill-color: #AAA;\n",
              "      --disabled-bg-color: #DDD;\n",
              "  }\n",
              "\n",
              "  [theme=dark] .colab-df-quickchart {\n",
              "      --bg-color: #3B4455;\n",
              "      --fill-color: #D2E3FC;\n",
              "      --hover-bg-color: #434B5C;\n",
              "      --hover-fill-color: #FFFFFF;\n",
              "      --disabled-bg-color: #3B4455;\n",
              "      --disabled-fill-color: #666;\n",
              "  }\n",
              "\n",
              "  .colab-df-quickchart {\n",
              "    background-color: var(--bg-color);\n",
              "    border: none;\n",
              "    border-radius: 50%;\n",
              "    cursor: pointer;\n",
              "    display: none;\n",
              "    fill: var(--fill-color);\n",
              "    height: 32px;\n",
              "    padding: 0;\n",
              "    width: 32px;\n",
              "  }\n",
              "\n",
              "  .colab-df-quickchart:hover {\n",
              "    background-color: var(--hover-bg-color);\n",
              "    box-shadow: 0 1px 2px rgba(60, 64, 67, 0.3), 0 1px 3px 1px rgba(60, 64, 67, 0.15);\n",
              "    fill: var(--button-hover-fill-color);\n",
              "  }\n",
              "\n",
              "  .colab-df-quickchart-complete:disabled,\n",
              "  .colab-df-quickchart-complete:disabled:hover {\n",
              "    background-color: var(--disabled-bg-color);\n",
              "    fill: var(--disabled-fill-color);\n",
              "    box-shadow: none;\n",
              "  }\n",
              "\n",
              "  .colab-df-spinner {\n",
              "    border: 2px solid var(--fill-color);\n",
              "    border-color: transparent;\n",
              "    border-bottom-color: var(--fill-color);\n",
              "    animation:\n",
              "      spin 1s steps(1) infinite;\n",
              "  }\n",
              "\n",
              "  @keyframes spin {\n",
              "    0% {\n",
              "      border-color: transparent;\n",
              "      border-bottom-color: var(--fill-color);\n",
              "      border-left-color: var(--fill-color);\n",
              "    }\n",
              "    20% {\n",
              "      border-color: transparent;\n",
              "      border-left-color: var(--fill-color);\n",
              "      border-top-color: var(--fill-color);\n",
              "    }\n",
              "    30% {\n",
              "      border-color: transparent;\n",
              "      border-left-color: var(--fill-color);\n",
              "      border-top-color: var(--fill-color);\n",
              "      border-right-color: var(--fill-color);\n",
              "    }\n",
              "    40% {\n",
              "      border-color: transparent;\n",
              "      border-right-color: var(--fill-color);\n",
              "      border-top-color: var(--fill-color);\n",
              "    }\n",
              "    60% {\n",
              "      border-color: transparent;\n",
              "      border-right-color: var(--fill-color);\n",
              "    }\n",
              "    80% {\n",
              "      border-color: transparent;\n",
              "      border-right-color: var(--fill-color);\n",
              "      border-bottom-color: var(--fill-color);\n",
              "    }\n",
              "    90% {\n",
              "      border-color: transparent;\n",
              "      border-bottom-color: var(--fill-color);\n",
              "    }\n",
              "  }\n",
              "</style>\n",
              "\n",
              "      <script>\n",
              "        async function quickchart(key) {\n",
              "          const quickchartButtonEl =\n",
              "            document.querySelector('#' + key + ' button');\n",
              "          quickchartButtonEl.disabled = true;  // To prevent multiple clicks.\n",
              "          quickchartButtonEl.classList.add('colab-df-spinner');\n",
              "          try {\n",
              "            const charts = await google.colab.kernel.invokeFunction(\n",
              "                'suggestCharts', [key], {});\n",
              "          } catch (error) {\n",
              "            console.error('Error during call to suggestCharts:', error);\n",
              "          }\n",
              "          quickchartButtonEl.classList.remove('colab-df-spinner');\n",
              "          quickchartButtonEl.classList.add('colab-df-quickchart-complete');\n",
              "        }\n",
              "        (() => {\n",
              "          let quickchartButtonEl =\n",
              "            document.querySelector('#df-3ac5e5c5-dadd-44a8-b0ec-f68f051fb3fe button');\n",
              "          quickchartButtonEl.style.display =\n",
              "            google.colab.kernel.accessAllowed ? 'block' : 'none';\n",
              "        })();\n",
              "      </script>\n",
              "    </div>\n",
              "\n",
              "    </div>\n",
              "  </div>\n"
            ],
            "application/vnd.google.colaboratory.intrinsic+json": {
              "type": "dataframe",
              "variable_name": "ratings"
            }
          },
          "metadata": {},
          "execution_count": 24
        }
      ],
      "source": [
        "print(f\"Jumlah data ratings akhir: {ratings.shape[0]}\")\n",
        "ratings.head()"
      ]
    },
    {
      "cell_type": "markdown",
      "metadata": {
        "id": "Mcf3dQ3cGDBw"
      },
      "source": [
        "#Data Preparation"
      ]
    },
    {
      "cell_type": "markdown",
      "metadata": {
        "id": "lVvUFRTeJXO2"
      },
      "source": [
        "Mengatasi missing value"
      ]
    },
    {
      "cell_type": "code",
      "execution_count": 25,
      "metadata": {
        "colab": {
          "base_uri": "https://localhost:8080/",
          "height": 398
        },
        "id": "Q2CS03bZG0TJ",
        "outputId": "d3c80c5c-e6bb-4c4b-b0ff-9b9746f864c8"
      },
      "outputs": [
        {
          "output_type": "execute_result",
          "data": {
            "text/plain": [
              "User-ID                0\n",
              "ISBN                   0\n",
              "Book-Rating            0\n",
              "Book-Title             0\n",
              "Book-Author            0\n",
              "Year-Of-Publication    0\n",
              "Publisher              0\n",
              "Image-URL-S            0\n",
              "Image-URL-M            0\n",
              "Image-URL-L            0\n",
              "dtype: int64"
            ],
            "text/html": [
              "<div>\n",
              "<style scoped>\n",
              "    .dataframe tbody tr th:only-of-type {\n",
              "        vertical-align: middle;\n",
              "    }\n",
              "\n",
              "    .dataframe tbody tr th {\n",
              "        vertical-align: top;\n",
              "    }\n",
              "\n",
              "    .dataframe thead th {\n",
              "        text-align: right;\n",
              "    }\n",
              "</style>\n",
              "<table border=\"1\" class=\"dataframe\">\n",
              "  <thead>\n",
              "    <tr style=\"text-align: right;\">\n",
              "      <th></th>\n",
              "      <th>0</th>\n",
              "    </tr>\n",
              "  </thead>\n",
              "  <tbody>\n",
              "    <tr>\n",
              "      <th>User-ID</th>\n",
              "      <td>0</td>\n",
              "    </tr>\n",
              "    <tr>\n",
              "      <th>ISBN</th>\n",
              "      <td>0</td>\n",
              "    </tr>\n",
              "    <tr>\n",
              "      <th>Book-Rating</th>\n",
              "      <td>0</td>\n",
              "    </tr>\n",
              "    <tr>\n",
              "      <th>Book-Title</th>\n",
              "      <td>0</td>\n",
              "    </tr>\n",
              "    <tr>\n",
              "      <th>Book-Author</th>\n",
              "      <td>0</td>\n",
              "    </tr>\n",
              "    <tr>\n",
              "      <th>Year-Of-Publication</th>\n",
              "      <td>0</td>\n",
              "    </tr>\n",
              "    <tr>\n",
              "      <th>Publisher</th>\n",
              "      <td>0</td>\n",
              "    </tr>\n",
              "    <tr>\n",
              "      <th>Image-URL-S</th>\n",
              "      <td>0</td>\n",
              "    </tr>\n",
              "    <tr>\n",
              "      <th>Image-URL-M</th>\n",
              "      <td>0</td>\n",
              "    </tr>\n",
              "    <tr>\n",
              "      <th>Image-URL-L</th>\n",
              "      <td>0</td>\n",
              "    </tr>\n",
              "  </tbody>\n",
              "</table>\n",
              "</div><br><label><b>dtype:</b> int64</label>"
            ]
          },
          "metadata": {},
          "execution_count": 25
        }
      ],
      "source": [
        "# Cek missing value\n",
        "ratings.isnull().sum()"
      ]
    },
    {
      "cell_type": "markdown",
      "metadata": {
        "id": "XWaVwcEhJi7N"
      },
      "source": [
        "Cek duplikat data"
      ]
    },
    {
      "cell_type": "code",
      "execution_count": 26,
      "metadata": {
        "colab": {
          "base_uri": "https://localhost:8080/"
        },
        "id": "Ocn3HgOmHkFR",
        "outputId": "198d4451-11fb-40db-bbb0-79ea2aeacb8e"
      },
      "outputs": [
        {
          "output_type": "execute_result",
          "data": {
            "text/plain": [
              "np.int64(0)"
            ]
          },
          "metadata": {},
          "execution_count": 26
        }
      ],
      "source": [
        "# Cek duplikat di masing-masing data\n",
        "ratings.duplicated().sum()"
      ]
    },
    {
      "cell_type": "code",
      "execution_count": 27,
      "metadata": {
        "id": "iyONOAXQ_rY3"
      },
      "outputs": [],
      "source": [
        "# Misalnya df adalah dataframe ratings setelah preprocessing\n",
        "df = ratings.copy()"
      ]
    },
    {
      "cell_type": "code",
      "execution_count": 28,
      "metadata": {
        "id": "L3Y-u514AlXc"
      },
      "outputs": [],
      "source": [
        "# Ubah rating menjadi float\n",
        "df['Book-Rating'] = df['Book-Rating'].astype(np.float32)"
      ]
    },
    {
      "cell_type": "code",
      "execution_count": 29,
      "metadata": {
        "id": "r8ipVV90LiqS"
      },
      "outputs": [],
      "source": [
        "# Hitung min dan max rating\n",
        "min_rating = df['Book-Rating'].min()\n",
        "max_rating = df['Book-Rating'].max()"
      ]
    },
    {
      "cell_type": "code",
      "execution_count": 30,
      "metadata": {
        "id": "NNHASm2T_aWA"
      },
      "outputs": [],
      "source": [
        "# Encode user & book\n",
        "user_ids = df['User-ID'].unique().tolist()\n",
        "book_ids = df['ISBN'].unique().tolist()\n",
        "\n",
        "user_to_user_encoded = {x: i for i, x in enumerate(user_ids)}\n",
        "book_to_book_encoded = {x: i for i, x in enumerate(book_ids)}\n",
        "\n",
        "df['user'] = df['User-ID'].map(user_to_user_encoded)\n",
        "df['book'] = df['ISBN'].map(book_to_book_encoded)\n",
        "df['rating'] = df['Book-Rating']"
      ]
    },
    {
      "cell_type": "code",
      "execution_count": 31,
      "metadata": {
        "id": "XC3K6bTiClfp"
      },
      "outputs": [],
      "source": [
        "# Simpan jumlah user dan book\n",
        "num_users = len(user_to_user_encoded)\n",
        "num_books = len(book_to_book_encoded)"
      ]
    },
    {
      "cell_type": "code",
      "execution_count": 32,
      "metadata": {
        "colab": {
          "base_uri": "https://localhost:8080/"
        },
        "id": "jDZMRKaADAiS",
        "outputId": "da7a03ec-8b1a-421e-db6c-c143b32ceb1e"
      },
      "outputs": [
        {
          "output_type": "stream",
          "name": "stdout",
          "text": [
            "Number of Users: 12873, Number of Books: 10811, Min Rating: 1.0, Max Rating: 10.0\n"
          ]
        }
      ],
      "source": [
        "# Tampilkan info akhir\n",
        "print('Number of Users: {}, Number of Books: {}, Min Rating: {}, Max Rating: {}'.format(\n",
        "    num_users, num_books, min_rating, max_rating\n",
        "))"
      ]
    },
    {
      "cell_type": "markdown",
      "metadata": {
        "id": "WETYbDMdKwqK"
      },
      "source": [
        "# Membagi Data untuk Training dan Validasi"
      ]
    },
    {
      "cell_type": "code",
      "execution_count": 33,
      "metadata": {
        "id": "in1-HQcqKxpu"
      },
      "outputs": [],
      "source": [
        "# Acak data\n",
        "df = df.sample(frac=1, random_state=42)"
      ]
    },
    {
      "cell_type": "code",
      "execution_count": 34,
      "metadata": {
        "colab": {
          "base_uri": "https://localhost:8080/"
        },
        "id": "JxrWltK2Da70",
        "outputId": "495232c4-251a-47ee-ca15-18eb6d892fd2"
      },
      "outputs": [
        {
          "output_type": "stream",
          "name": "stdout",
          "text": [
            "[[ 8978   420]\n",
            " [  560  3082]\n",
            " [ 3527   705]\n",
            " ...\n",
            " [ 9723   787]\n",
            " [12348   888]\n",
            " [11397  1459]] [0.88888889 1.         0.77777778 ... 0.44444444 0.55555556 0.55555556]\n"
          ]
        }
      ],
      "source": [
        "# Membuat variabel x untuk mencocokkan data user dan resto menjadi satu value\n",
        "x = df[['user', 'book']].values\n",
        "\n",
        "# Membuat variabel y untuk membuat rating dari hasil\n",
        "y = df['rating'].apply(lambda x: (x - min_rating) / (max_rating - min_rating)).values\n",
        "\n",
        "# Membagi menjadi 80% data train dan 20% data validasi\n",
        "train_indices = int(0.8 * df.shape[0])\n",
        "x_train, x_val, y_train, y_val = (\n",
        "    x[:train_indices],\n",
        "    x[train_indices:],\n",
        "    y[:train_indices],\n",
        "    y[train_indices:]\n",
        ")\n",
        "\n",
        "print(x, y)"
      ]
    },
    {
      "cell_type": "markdown",
      "metadata": {
        "id": "Qqr6biZQDz-y"
      },
      "source": [
        "#Proses Training"
      ]
    },
    {
      "cell_type": "code",
      "execution_count": 35,
      "metadata": {
        "id": "60PNZBGrD1Cm"
      },
      "outputs": [],
      "source": [
        "class RecommenderNet(tf.keras.Model):\n",
        "\n",
        "  # Insialisasi fungsi\n",
        "  def __init__(self, num_users, num_books, embedding_size, **kwargs):\n",
        "    super(RecommenderNet, self).__init__(**kwargs)\n",
        "    self.num_users = num_users\n",
        "    self.num_books = num_books\n",
        "    self.embedding_size = embedding_size\n",
        "    self.user_embedding = layers.Embedding(\n",
        "        num_users,\n",
        "        embedding_size,\n",
        "        embeddings_initializer = 'he_normal',\n",
        "        embeddings_regularizer = keras.regularizers.l2(1e-6)\n",
        "    )\n",
        "    self.user_bias = layers.Embedding(num_users, 1)\n",
        "    self.books_embedding = layers.Embedding(\n",
        "        num_books,\n",
        "        embedding_size,\n",
        "        embeddings_initializer = 'he_normal',\n",
        "        embeddings_regularizer = keras.regularizers.l2(1e-6)\n",
        "    )\n",
        "    self.books_bias = layers.Embedding(num_books, 1)\n",
        "\n",
        "  def call(self, inputs):\n",
        "    user_vector = self.user_embedding(inputs[:,0])\n",
        "    user_bias = self.user_bias(inputs[:, 0])\n",
        "    books_vector = self.books_embedding(inputs[:, 1])\n",
        "    books_bias = self.books_bias(inputs[:, 1])\n",
        "\n",
        "    dot_user_books = tf.tensordot(user_vector, books_vector, 2)\n",
        "\n",
        "    x = dot_user_books + user_bias + books_bias\n",
        "\n",
        "    return tf.nn.sigmoid(x)"
      ]
    },
    {
      "cell_type": "markdown",
      "metadata": {
        "id": "KwEUKx31E5PU"
      },
      "source": [
        "Proses compile terhadap model"
      ]
    },
    {
      "cell_type": "code",
      "execution_count": 36,
      "metadata": {
        "id": "9nZhGa6zE5rr"
      },
      "outputs": [],
      "source": [
        "model = RecommenderNet(num_users, num_books, 50) # inisialisasi model\n",
        "\n",
        "# model compile\n",
        "model.compile(\n",
        "    loss = tf.keras.losses.BinaryCrossentropy(),\n",
        "    optimizer = keras.optimizers.Adam(learning_rate=0.001),\n",
        "    metrics=[tf.keras.metrics.RootMeanSquaredError()]\n",
        ")"
      ]
    },
    {
      "cell_type": "code",
      "execution_count": 37,
      "metadata": {
        "colab": {
          "base_uri": "https://localhost:8080/"
        },
        "id": "XUYanGmfFBfW",
        "outputId": "b6b123a6-e48d-4e64-8372-acf0a1ea8809"
      },
      "outputs": [
        {
          "output_type": "stream",
          "name": "stdout",
          "text": [
            "Epoch 1/100\n",
            "\u001b[1m13722/13722\u001b[0m \u001b[32m━━━━━━━━━━━━━━━━━━━━\u001b[0m\u001b[37m\u001b[0m \u001b[1m234s\u001b[0m 17ms/step - loss: 0.6431 - root_mean_squared_error: 0.2798 - val_loss: 0.5588 - val_root_mean_squared_error: 0.1956\n",
            "Epoch 2/100\n",
            "\u001b[1m13722/13722\u001b[0m \u001b[32m━━━━━━━━━━━━━━━━━━━━\u001b[0m\u001b[37m\u001b[0m \u001b[1m229s\u001b[0m 17ms/step - loss: 0.5506 - root_mean_squared_error: 0.1867 - val_loss: 0.5529 - val_root_mean_squared_error: 0.1898\n",
            "Epoch 3/100\n",
            "\u001b[1m13722/13722\u001b[0m \u001b[32m━━━━━━━━━━━━━━━━━━━━\u001b[0m\u001b[37m\u001b[0m \u001b[1m237s\u001b[0m 17ms/step - loss: 0.5407 - root_mean_squared_error: 0.1767 - val_loss: 0.5493 - val_root_mean_squared_error: 0.1862\n",
            "Epoch 4/100\n",
            "\u001b[1m13722/13722\u001b[0m \u001b[32m━━━━━━━━━━━━━━━━━━━━\u001b[0m\u001b[37m\u001b[0m \u001b[1m261s\u001b[0m 17ms/step - loss: 0.5349 - root_mean_squared_error: 0.1713 - val_loss: 0.5472 - val_root_mean_squared_error: 0.1844\n",
            "Epoch 5/100\n",
            "\u001b[1m13722/13722\u001b[0m \u001b[32m━━━━━━━━━━━━━━━━━━━━\u001b[0m\u001b[37m\u001b[0m \u001b[1m239s\u001b[0m 17ms/step - loss: 0.5314 - root_mean_squared_error: 0.1677 - val_loss: 0.5452 - val_root_mean_squared_error: 0.1826\n",
            "Epoch 6/100\n",
            "\u001b[1m13722/13722\u001b[0m \u001b[32m━━━━━━━━━━━━━━━━━━━━\u001b[0m\u001b[37m\u001b[0m \u001b[1m259s\u001b[0m 17ms/step - loss: 0.5285 - root_mean_squared_error: 0.1640 - val_loss: 0.5441 - val_root_mean_squared_error: 0.1818\n",
            "Epoch 7/100\n",
            "\u001b[1m13722/13722\u001b[0m \u001b[32m━━━━━━━━━━━━━━━━━━━━\u001b[0m\u001b[37m\u001b[0m \u001b[1m262s\u001b[0m 17ms/step - loss: 0.5267 - root_mean_squared_error: 0.1621 - val_loss: 0.5434 - val_root_mean_squared_error: 0.1814\n",
            "Epoch 8/100\n",
            "\u001b[1m13722/13722\u001b[0m \u001b[32m━━━━━━━━━━━━━━━━━━━━\u001b[0m\u001b[37m\u001b[0m \u001b[1m264s\u001b[0m 17ms/step - loss: 0.5240 - root_mean_squared_error: 0.1597 - val_loss: 0.5427 - val_root_mean_squared_error: 0.1808\n",
            "Epoch 9/100\n",
            "\u001b[1m13722/13722\u001b[0m \u001b[32m━━━━━━━━━━━━━━━━━━━━\u001b[0m\u001b[37m\u001b[0m \u001b[1m259s\u001b[0m 17ms/step - loss: 0.5226 - root_mean_squared_error: 0.1577 - val_loss: 0.5424 - val_root_mean_squared_error: 0.1809\n",
            "Epoch 10/100\n",
            "\u001b[1m13722/13722\u001b[0m \u001b[32m━━━━━━━━━━━━━━━━━━━━\u001b[0m\u001b[37m\u001b[0m \u001b[1m235s\u001b[0m 17ms/step - loss: 0.5198 - root_mean_squared_error: 0.1556 - val_loss: 0.5423 - val_root_mean_squared_error: 0.1809\n",
            "Epoch 11/100\n",
            "\u001b[1m13722/13722\u001b[0m \u001b[32m━━━━━━━━━━━━━━━━━━━━\u001b[0m\u001b[37m\u001b[0m \u001b[1m260s\u001b[0m 17ms/step - loss: 0.5207 - root_mean_squared_error: 0.1556 - val_loss: 0.5421 - val_root_mean_squared_error: 0.1807\n",
            "Epoch 12/100\n",
            "\u001b[1m13722/13722\u001b[0m \u001b[32m━━━━━━━━━━━━━━━━━━━━\u001b[0m\u001b[37m\u001b[0m \u001b[1m233s\u001b[0m 17ms/step - loss: 0.5172 - root_mean_squared_error: 0.1545 - val_loss: 0.5420 - val_root_mean_squared_error: 0.1808\n",
            "Epoch 13/100\n",
            "\u001b[1m13722/13722\u001b[0m \u001b[32m━━━━━━━━━━━━━━━━━━━━\u001b[0m\u001b[37m\u001b[0m \u001b[1m233s\u001b[0m 17ms/step - loss: 0.5169 - root_mean_squared_error: 0.1529 - val_loss: 0.5419 - val_root_mean_squared_error: 0.1807\n",
            "Epoch 14/100\n",
            "\u001b[1m13722/13722\u001b[0m \u001b[32m━━━━━━━━━━━━━━━━━━━━\u001b[0m\u001b[37m\u001b[0m \u001b[1m228s\u001b[0m 17ms/step - loss: 0.5175 - root_mean_squared_error: 0.1528 - val_loss: 0.5418 - val_root_mean_squared_error: 0.1807\n",
            "Epoch 15/100\n",
            "\u001b[1m13722/13722\u001b[0m \u001b[32m━━━━━━━━━━━━━━━━━━━━\u001b[0m\u001b[37m\u001b[0m \u001b[1m269s\u001b[0m 17ms/step - loss: 0.5145 - root_mean_squared_error: 0.1517 - val_loss: 0.5420 - val_root_mean_squared_error: 0.1807\n",
            "Epoch 16/100\n",
            "\u001b[1m13722/13722\u001b[0m \u001b[32m━━━━━━━━━━━━━━━━━━━━\u001b[0m\u001b[37m\u001b[0m \u001b[1m262s\u001b[0m 17ms/step - loss: 0.5156 - root_mean_squared_error: 0.1518 - val_loss: 0.5422 - val_root_mean_squared_error: 0.1807\n",
            "Epoch 17/100\n",
            "\u001b[1m13722/13722\u001b[0m \u001b[32m━━━━━━━━━━━━━━━━━━━━\u001b[0m\u001b[37m\u001b[0m \u001b[1m252s\u001b[0m 16ms/step - loss: 0.5157 - root_mean_squared_error: 0.1521 - val_loss: 0.5424 - val_root_mean_squared_error: 0.1807\n",
            "Epoch 18/100\n",
            "\u001b[1m13722/13722\u001b[0m \u001b[32m━━━━━━━━━━━━━━━━━━━━\u001b[0m\u001b[37m\u001b[0m \u001b[1m271s\u001b[0m 17ms/step - loss: 0.5150 - root_mean_squared_error: 0.1499 - val_loss: 0.5431 - val_root_mean_squared_error: 0.1812\n",
            "Epoch 19/100\n",
            "\u001b[1m13722/13722\u001b[0m \u001b[32m━━━━━━━━━━━━━━━━━━━━\u001b[0m\u001b[37m\u001b[0m \u001b[1m262s\u001b[0m 17ms/step - loss: 0.5154 - root_mean_squared_error: 0.1510 - val_loss: 0.5432 - val_root_mean_squared_error: 0.1810\n",
            "Epoch 20/100\n",
            "\u001b[1m13722/13722\u001b[0m \u001b[32m━━━━━━━━━━━━━━━━━━━━\u001b[0m\u001b[37m\u001b[0m \u001b[1m261s\u001b[0m 17ms/step - loss: 0.5148 - root_mean_squared_error: 0.1507 - val_loss: 0.5437 - val_root_mean_squared_error: 0.1812\n",
            "Epoch 21/100\n",
            "\u001b[1m13722/13722\u001b[0m \u001b[32m━━━━━━━━━━━━━━━━━━━━\u001b[0m\u001b[37m\u001b[0m \u001b[1m257s\u001b[0m 17ms/step - loss: 0.5157 - root_mean_squared_error: 0.1511 - val_loss: 0.5440 - val_root_mean_squared_error: 0.1813\n",
            "Epoch 22/100\n",
            "\u001b[1m13722/13722\u001b[0m \u001b[32m━━━━━━━━━━━━━━━━━━━━\u001b[0m\u001b[37m\u001b[0m \u001b[1m242s\u001b[0m 18ms/step - loss: 0.5148 - root_mean_squared_error: 0.1509 - val_loss: 0.5443 - val_root_mean_squared_error: 0.1813\n",
            "Epoch 23/100\n",
            "\u001b[1m13722/13722\u001b[0m \u001b[32m━━━━━━━━━━━━━━━━━━━━\u001b[0m\u001b[37m\u001b[0m \u001b[1m251s\u001b[0m 17ms/step - loss: 0.5147 - root_mean_squared_error: 0.1504 - val_loss: 0.5447 - val_root_mean_squared_error: 0.1815\n",
            "Epoch 24/100\n",
            "\u001b[1m13722/13722\u001b[0m \u001b[32m━━━━━━━━━━━━━━━━━━━━\u001b[0m\u001b[37m\u001b[0m \u001b[1m266s\u001b[0m 17ms/step - loss: 0.5135 - root_mean_squared_error: 0.1496 - val_loss: 0.5454 - val_root_mean_squared_error: 0.1818\n",
            "Epoch 25/100\n",
            "\u001b[1m13722/13722\u001b[0m \u001b[32m━━━━━━━━━━━━━━━━━━━━\u001b[0m\u001b[37m\u001b[0m \u001b[1m263s\u001b[0m 17ms/step - loss: 0.5135 - root_mean_squared_error: 0.1496 - val_loss: 0.5460 - val_root_mean_squared_error: 0.1821\n",
            "Epoch 26/100\n",
            "\u001b[1m13722/13722\u001b[0m \u001b[32m━━━━━━━━━━━━━━━━━━━━\u001b[0m\u001b[37m\u001b[0m \u001b[1m238s\u001b[0m 17ms/step - loss: 0.5139 - root_mean_squared_error: 0.1495 - val_loss: 0.5462 - val_root_mean_squared_error: 0.1822\n",
            "Epoch 27/100\n",
            "\u001b[1m13722/13722\u001b[0m \u001b[32m━━━━━━━━━━━━━━━━━━━━\u001b[0m\u001b[37m\u001b[0m \u001b[1m255s\u001b[0m 17ms/step - loss: 0.5129 - root_mean_squared_error: 0.1493 - val_loss: 0.5467 - val_root_mean_squared_error: 0.1825\n",
            "Epoch 28/100\n",
            "\u001b[1m13722/13722\u001b[0m \u001b[32m━━━━━━━━━━━━━━━━━━━━\u001b[0m\u001b[37m\u001b[0m \u001b[1m265s\u001b[0m 17ms/step - loss: 0.5145 - root_mean_squared_error: 0.1503 - val_loss: 0.5474 - val_root_mean_squared_error: 0.1829\n",
            "Epoch 29/100\n",
            "\u001b[1m13722/13722\u001b[0m \u001b[32m━━━━━━━━━━━━━━━━━━━━\u001b[0m\u001b[37m\u001b[0m \u001b[1m273s\u001b[0m 18ms/step - loss: 0.5151 - root_mean_squared_error: 0.1496 - val_loss: 0.5479 - val_root_mean_squared_error: 0.1831\n",
            "Epoch 30/100\n",
            "\u001b[1m13722/13722\u001b[0m \u001b[32m━━━━━━━━━━━━━━━━━━━━\u001b[0m\u001b[37m\u001b[0m \u001b[1m253s\u001b[0m 17ms/step - loss: 0.5151 - root_mean_squared_error: 0.1505 - val_loss: 0.5480 - val_root_mean_squared_error: 0.1832\n",
            "Epoch 31/100\n",
            "\u001b[1m13722/13722\u001b[0m \u001b[32m━━━━━━━━━━━━━━━━━━━━\u001b[0m\u001b[37m\u001b[0m \u001b[1m258s\u001b[0m 17ms/step - loss: 0.5122 - root_mean_squared_error: 0.1488 - val_loss: 0.5486 - val_root_mean_squared_error: 0.1835\n",
            "Epoch 32/100\n",
            "\u001b[1m13722/13722\u001b[0m \u001b[32m━━━━━━━━━━━━━━━━━━━━\u001b[0m\u001b[37m\u001b[0m \u001b[1m279s\u001b[0m 18ms/step - loss: 0.5137 - root_mean_squared_error: 0.1494 - val_loss: 0.5492 - val_root_mean_squared_error: 0.1837\n",
            "Epoch 33/100\n",
            "\u001b[1m13722/13722\u001b[0m \u001b[32m━━━━━━━━━━━━━━━━━━━━\u001b[0m\u001b[37m\u001b[0m \u001b[1m246s\u001b[0m 17ms/step - loss: 0.5122 - root_mean_squared_error: 0.1498 - val_loss: 0.5497 - val_root_mean_squared_error: 0.1839\n",
            "Epoch 34/100\n",
            "\u001b[1m13722/13722\u001b[0m \u001b[32m━━━━━━━━━━━━━━━━━━━━\u001b[0m\u001b[37m\u001b[0m \u001b[1m264s\u001b[0m 17ms/step - loss: 0.5140 - root_mean_squared_error: 0.1503 - val_loss: 0.5500 - val_root_mean_squared_error: 0.1840\n",
            "Epoch 35/100\n",
            "\u001b[1m13722/13722\u001b[0m \u001b[32m━━━━━━━━━━━━━━━━━━━━\u001b[0m\u001b[37m\u001b[0m \u001b[1m237s\u001b[0m 17ms/step - loss: 0.5130 - root_mean_squared_error: 0.1493 - val_loss: 0.5502 - val_root_mean_squared_error: 0.1840\n",
            "Epoch 36/100\n",
            "\u001b[1m13722/13722\u001b[0m \u001b[32m━━━━━━━━━━━━━━━━━━━━\u001b[0m\u001b[37m\u001b[0m \u001b[1m232s\u001b[0m 17ms/step - loss: 0.5137 - root_mean_squared_error: 0.1501 - val_loss: 0.5509 - val_root_mean_squared_error: 0.1846\n",
            "Epoch 37/100\n",
            "\u001b[1m13722/13722\u001b[0m \u001b[32m━━━━━━━━━━━━━━━━━━━━\u001b[0m\u001b[37m\u001b[0m \u001b[1m267s\u001b[0m 17ms/step - loss: 0.5133 - root_mean_squared_error: 0.1498 - val_loss: 0.5512 - val_root_mean_squared_error: 0.1847\n",
            "Epoch 38/100\n",
            "\u001b[1m13722/13722\u001b[0m \u001b[32m━━━━━━━━━━━━━━━━━━━━\u001b[0m\u001b[37m\u001b[0m \u001b[1m237s\u001b[0m 17ms/step - loss: 0.5142 - root_mean_squared_error: 0.1505 - val_loss: 0.5513 - val_root_mean_squared_error: 0.1845\n",
            "Epoch 39/100\n",
            "\u001b[1m13722/13722\u001b[0m \u001b[32m━━━━━━━━━━━━━━━━━━━━\u001b[0m\u001b[37m\u001b[0m \u001b[1m262s\u001b[0m 17ms/step - loss: 0.5144 - root_mean_squared_error: 0.1499 - val_loss: 0.5518 - val_root_mean_squared_error: 0.1847\n",
            "Epoch 40/100\n",
            "\u001b[1m13722/13722\u001b[0m \u001b[32m━━━━━━━━━━━━━━━━━━━━\u001b[0m\u001b[37m\u001b[0m \u001b[1m261s\u001b[0m 17ms/step - loss: 0.5158 - root_mean_squared_error: 0.1503 - val_loss: 0.5524 - val_root_mean_squared_error: 0.1852\n",
            "Epoch 41/100\n",
            "\u001b[1m13722/13722\u001b[0m \u001b[32m━━━━━━━━━━━━━━━━━━━━\u001b[0m\u001b[37m\u001b[0m \u001b[1m238s\u001b[0m 17ms/step - loss: 0.5134 - root_mean_squared_error: 0.1499 - val_loss: 0.5528 - val_root_mean_squared_error: 0.1851\n",
            "Epoch 42/100\n",
            "\u001b[1m13722/13722\u001b[0m \u001b[32m━━━━━━━━━━━━━━━━━━━━\u001b[0m\u001b[37m\u001b[0m \u001b[1m237s\u001b[0m 17ms/step - loss: 0.5144 - root_mean_squared_error: 0.1499 - val_loss: 0.5532 - val_root_mean_squared_error: 0.1855\n",
            "Epoch 43/100\n",
            "\u001b[1m13722/13722\u001b[0m \u001b[32m━━━━━━━━━━━━━━━━━━━━\u001b[0m\u001b[37m\u001b[0m \u001b[1m263s\u001b[0m 17ms/step - loss: 0.5134 - root_mean_squared_error: 0.1500 - val_loss: 0.5534 - val_root_mean_squared_error: 0.1856\n",
            "Epoch 44/100\n",
            "\u001b[1m13722/13722\u001b[0m \u001b[32m━━━━━━━━━━━━━━━━━━━━\u001b[0m\u001b[37m\u001b[0m \u001b[1m265s\u001b[0m 18ms/step - loss: 0.5123 - root_mean_squared_error: 0.1496 - val_loss: 0.5539 - val_root_mean_squared_error: 0.1857\n",
            "Epoch 45/100\n",
            "\u001b[1m13722/13722\u001b[0m \u001b[32m━━━━━━━━━━━━━━━━━━━━\u001b[0m\u001b[37m\u001b[0m \u001b[1m239s\u001b[0m 17ms/step - loss: 0.5143 - root_mean_squared_error: 0.1499 - val_loss: 0.5543 - val_root_mean_squared_error: 0.1858\n",
            "Epoch 46/100\n",
            "\u001b[1m13722/13722\u001b[0m \u001b[32m━━━━━━━━━━━━━━━━━━━━\u001b[0m\u001b[37m\u001b[0m \u001b[1m267s\u001b[0m 18ms/step - loss: 0.5140 - root_mean_squared_error: 0.1503 - val_loss: 0.5542 - val_root_mean_squared_error: 0.1857\n",
            "Epoch 47/100\n",
            "\u001b[1m13722/13722\u001b[0m \u001b[32m━━━━━━━━━━━━━━━━━━━━\u001b[0m\u001b[37m\u001b[0m \u001b[1m231s\u001b[0m 17ms/step - loss: 0.5142 - root_mean_squared_error: 0.1505 - val_loss: 0.5546 - val_root_mean_squared_error: 0.1858\n",
            "Epoch 48/100\n",
            "\u001b[1m13722/13722\u001b[0m \u001b[32m━━━━━━━━━━━━━━━━━━━━\u001b[0m\u001b[37m\u001b[0m \u001b[1m231s\u001b[0m 17ms/step - loss: 0.5145 - root_mean_squared_error: 0.1497 - val_loss: 0.5550 - val_root_mean_squared_error: 0.1861\n",
            "Epoch 49/100\n",
            "\u001b[1m13722/13722\u001b[0m \u001b[32m━━━━━━━━━━━━━━━━━━━━\u001b[0m\u001b[37m\u001b[0m \u001b[1m277s\u001b[0m 18ms/step - loss: 0.5137 - root_mean_squared_error: 0.1499 - val_loss: 0.5552 - val_root_mean_squared_error: 0.1861\n",
            "Epoch 50/100\n",
            "\u001b[1m13722/13722\u001b[0m \u001b[32m━━━━━━━━━━━━━━━━━━━━\u001b[0m\u001b[37m\u001b[0m \u001b[1m257s\u001b[0m 18ms/step - loss: 0.5139 - root_mean_squared_error: 0.1500 - val_loss: 0.5558 - val_root_mean_squared_error: 0.1864\n",
            "Epoch 51/100\n",
            "\u001b[1m13722/13722\u001b[0m \u001b[32m━━━━━━━━━━━━━━━━━━━━\u001b[0m\u001b[37m\u001b[0m \u001b[1m248s\u001b[0m 18ms/step - loss: 0.5144 - root_mean_squared_error: 0.1494 - val_loss: 0.5561 - val_root_mean_squared_error: 0.1866\n",
            "Epoch 52/100\n",
            "\u001b[1m13722/13722\u001b[0m \u001b[32m━━━━━━━━━━━━━━━━━━━━\u001b[0m\u001b[37m\u001b[0m \u001b[1m262s\u001b[0m 18ms/step - loss: 0.5131 - root_mean_squared_error: 0.1490 - val_loss: 0.5563 - val_root_mean_squared_error: 0.1866\n",
            "Epoch 53/100\n",
            "\u001b[1m13722/13722\u001b[0m \u001b[32m━━━━━━━━━━━━━━━━━━━━\u001b[0m\u001b[37m\u001b[0m \u001b[1m259s\u001b[0m 18ms/step - loss: 0.5142 - root_mean_squared_error: 0.1496 - val_loss: 0.5567 - val_root_mean_squared_error: 0.1867\n",
            "Epoch 54/100\n",
            "\u001b[1m13722/13722\u001b[0m \u001b[32m━━━━━━━━━━━━━━━━━━━━\u001b[0m\u001b[37m\u001b[0m \u001b[1m261s\u001b[0m 18ms/step - loss: 0.5156 - root_mean_squared_error: 0.1510 - val_loss: 0.5569 - val_root_mean_squared_error: 0.1867\n",
            "Epoch 55/100\n",
            "\u001b[1m13722/13722\u001b[0m \u001b[32m━━━━━━━━━━━━━━━━━━━━\u001b[0m\u001b[37m\u001b[0m \u001b[1m266s\u001b[0m 18ms/step - loss: 0.5145 - root_mean_squared_error: 0.1499 - val_loss: 0.5570 - val_root_mean_squared_error: 0.1867\n",
            "Epoch 56/100\n",
            "\u001b[1m13722/13722\u001b[0m \u001b[32m━━━━━━━━━━━━━━━━━━━━\u001b[0m\u001b[37m\u001b[0m \u001b[1m247s\u001b[0m 18ms/step - loss: 0.5139 - root_mean_squared_error: 0.1502 - val_loss: 0.5572 - val_root_mean_squared_error: 0.1867\n",
            "Epoch 57/100\n",
            "\u001b[1m13722/13722\u001b[0m \u001b[32m━━━━━━━━━━━━━━━━━━━━\u001b[0m\u001b[37m\u001b[0m \u001b[1m263s\u001b[0m 18ms/step - loss: 0.5147 - root_mean_squared_error: 0.1501 - val_loss: 0.5579 - val_root_mean_squared_error: 0.1871\n",
            "Epoch 58/100\n",
            "\u001b[1m13722/13722\u001b[0m \u001b[32m━━━━━━━━━━━━━━━━━━━━\u001b[0m\u001b[37m\u001b[0m \u001b[1m251s\u001b[0m 18ms/step - loss: 0.5150 - root_mean_squared_error: 0.1507 - val_loss: 0.5579 - val_root_mean_squared_error: 0.1871\n",
            "Epoch 59/100\n",
            "\u001b[1m13722/13722\u001b[0m \u001b[32m━━━━━━━━━━━━━━━━━━━━\u001b[0m\u001b[37m\u001b[0m \u001b[1m250s\u001b[0m 18ms/step - loss: 0.5144 - root_mean_squared_error: 0.1500 - val_loss: 0.5584 - val_root_mean_squared_error: 0.1873\n",
            "Epoch 60/100\n",
            "\u001b[1m13722/13722\u001b[0m \u001b[32m━━━━━━━━━━━━━━━━━━━━\u001b[0m\u001b[37m\u001b[0m \u001b[1m257s\u001b[0m 18ms/step - loss: 0.5136 - root_mean_squared_error: 0.1502 - val_loss: 0.5587 - val_root_mean_squared_error: 0.1875\n",
            "Epoch 61/100\n",
            "\u001b[1m13722/13722\u001b[0m \u001b[32m━━━━━━━━━━━━━━━━━━━━\u001b[0m\u001b[37m\u001b[0m \u001b[1m251s\u001b[0m 18ms/step - loss: 0.5144 - root_mean_squared_error: 0.1506 - val_loss: 0.5590 - val_root_mean_squared_error: 0.1875\n",
            "Epoch 62/100\n",
            "\u001b[1m13722/13722\u001b[0m \u001b[32m━━━━━━━━━━━━━━━━━━━━\u001b[0m\u001b[37m\u001b[0m \u001b[1m260s\u001b[0m 18ms/step - loss: 0.5149 - root_mean_squared_error: 0.1507 - val_loss: 0.5593 - val_root_mean_squared_error: 0.1876\n",
            "Epoch 63/100\n",
            "\u001b[1m13722/13722\u001b[0m \u001b[32m━━━━━━━━━━━━━━━━━━━━\u001b[0m\u001b[37m\u001b[0m \u001b[1m255s\u001b[0m 18ms/step - loss: 0.5149 - root_mean_squared_error: 0.1500 - val_loss: 0.5595 - val_root_mean_squared_error: 0.1877\n",
            "Epoch 64/100\n",
            "\u001b[1m13722/13722\u001b[0m \u001b[32m━━━━━━━━━━━━━━━━━━━━\u001b[0m\u001b[37m\u001b[0m \u001b[1m264s\u001b[0m 18ms/step - loss: 0.5144 - root_mean_squared_error: 0.1501 - val_loss: 0.5598 - val_root_mean_squared_error: 0.1878\n",
            "Epoch 65/100\n",
            "\u001b[1m13722/13722\u001b[0m \u001b[32m━━━━━━━━━━━━━━━━━━━━\u001b[0m\u001b[37m\u001b[0m \u001b[1m264s\u001b[0m 18ms/step - loss: 0.5141 - root_mean_squared_error: 0.1508 - val_loss: 0.5602 - val_root_mean_squared_error: 0.1881\n",
            "Epoch 66/100\n",
            "\u001b[1m13722/13722\u001b[0m \u001b[32m━━━━━━━━━━━━━━━━━━━━\u001b[0m\u001b[37m\u001b[0m \u001b[1m262s\u001b[0m 18ms/step - loss: 0.5135 - root_mean_squared_error: 0.1496 - val_loss: 0.5604 - val_root_mean_squared_error: 0.1880\n",
            "Epoch 67/100\n",
            "\u001b[1m13722/13722\u001b[0m \u001b[32m━━━━━━━━━━━━━━━━━━━━\u001b[0m\u001b[37m\u001b[0m \u001b[1m265s\u001b[0m 18ms/step - loss: 0.5148 - root_mean_squared_error: 0.1503 - val_loss: 0.5607 - val_root_mean_squared_error: 0.1881\n",
            "Epoch 68/100\n",
            "\u001b[1m13722/13722\u001b[0m \u001b[32m━━━━━━━━━━━━━━━━━━━━\u001b[0m\u001b[37m\u001b[0m \u001b[1m261s\u001b[0m 18ms/step - loss: 0.5154 - root_mean_squared_error: 0.1498 - val_loss: 0.5608 - val_root_mean_squared_error: 0.1880\n",
            "Epoch 69/100\n",
            "\u001b[1m13722/13722\u001b[0m \u001b[32m━━━━━━━━━━━━━━━━━━━━\u001b[0m\u001b[37m\u001b[0m \u001b[1m261s\u001b[0m 18ms/step - loss: 0.5155 - root_mean_squared_error: 0.1501 - val_loss: 0.5610 - val_root_mean_squared_error: 0.1881\n",
            "Epoch 70/100\n",
            "\u001b[1m13722/13722\u001b[0m \u001b[32m━━━━━━━━━━━━━━━━━━━━\u001b[0m\u001b[37m\u001b[0m \u001b[1m246s\u001b[0m 18ms/step - loss: 0.5141 - root_mean_squared_error: 0.1497 - val_loss: 0.5611 - val_root_mean_squared_error: 0.1881\n",
            "Epoch 71/100\n",
            "\u001b[1m13722/13722\u001b[0m \u001b[32m━━━━━━━━━━━━━━━━━━━━\u001b[0m\u001b[37m\u001b[0m \u001b[1m249s\u001b[0m 18ms/step - loss: 0.5145 - root_mean_squared_error: 0.1499 - val_loss: 0.5614 - val_root_mean_squared_error: 0.1880\n",
            "Epoch 72/100\n",
            "\u001b[1m13722/13722\u001b[0m \u001b[32m━━━━━━━━━━━━━━━━━━━━\u001b[0m\u001b[37m\u001b[0m \u001b[1m243s\u001b[0m 18ms/step - loss: 0.5135 - root_mean_squared_error: 0.1504 - val_loss: 0.5617 - val_root_mean_squared_error: 0.1884\n",
            "Epoch 73/100\n",
            "\u001b[1m13722/13722\u001b[0m \u001b[32m━━━━━━━━━━━━━━━━━━━━\u001b[0m\u001b[37m\u001b[0m \u001b[1m270s\u001b[0m 18ms/step - loss: 0.5155 - root_mean_squared_error: 0.1507 - val_loss: 0.5622 - val_root_mean_squared_error: 0.1886\n",
            "Epoch 74/100\n",
            "\u001b[1m13722/13722\u001b[0m \u001b[32m━━━━━━━━━━━━━━━━━━━━\u001b[0m\u001b[37m\u001b[0m \u001b[1m266s\u001b[0m 19ms/step - loss: 0.5153 - root_mean_squared_error: 0.1506 - val_loss: 0.5623 - val_root_mean_squared_error: 0.1884\n",
            "Epoch 75/100\n",
            "\u001b[1m13722/13722\u001b[0m \u001b[32m━━━━━━━━━━━━━━━━━━━━\u001b[0m\u001b[37m\u001b[0m \u001b[1m257s\u001b[0m 18ms/step - loss: 0.5146 - root_mean_squared_error: 0.1504 - val_loss: 0.5626 - val_root_mean_squared_error: 0.1886\n",
            "Epoch 76/100\n",
            "\u001b[1m13722/13722\u001b[0m \u001b[32m━━━━━━━━━━━━━━━━━━━━\u001b[0m\u001b[37m\u001b[0m \u001b[1m266s\u001b[0m 19ms/step - loss: 0.5149 - root_mean_squared_error: 0.1503 - val_loss: 0.5629 - val_root_mean_squared_error: 0.1886\n",
            "Epoch 77/100\n",
            "\u001b[1m13722/13722\u001b[0m \u001b[32m━━━━━━━━━━━━━━━━━━━━\u001b[0m\u001b[37m\u001b[0m \u001b[1m262s\u001b[0m 18ms/step - loss: 0.5153 - root_mean_squared_error: 0.1505 - val_loss: 0.5628 - val_root_mean_squared_error: 0.1885\n",
            "Epoch 78/100\n",
            "\u001b[1m13722/13722\u001b[0m \u001b[32m━━━━━━━━━━━━━━━━━━━━\u001b[0m\u001b[37m\u001b[0m \u001b[1m254s\u001b[0m 18ms/step - loss: 0.5149 - root_mean_squared_error: 0.1504 - val_loss: 0.5631 - val_root_mean_squared_error: 0.1886\n",
            "Epoch 79/100\n",
            "\u001b[1m13722/13722\u001b[0m \u001b[32m━━━━━━━━━━━━━━━━━━━━\u001b[0m\u001b[37m\u001b[0m \u001b[1m269s\u001b[0m 18ms/step - loss: 0.5138 - root_mean_squared_error: 0.1502 - val_loss: 0.5634 - val_root_mean_squared_error: 0.1887\n",
            "Epoch 80/100\n",
            "\u001b[1m13722/13722\u001b[0m \u001b[32m━━━━━━━━━━━━━━━━━━━━\u001b[0m\u001b[37m\u001b[0m \u001b[1m254s\u001b[0m 18ms/step - loss: 0.5153 - root_mean_squared_error: 0.1502 - val_loss: 0.5636 - val_root_mean_squared_error: 0.1888\n",
            "Epoch 81/100\n",
            "\u001b[1m13722/13722\u001b[0m \u001b[32m━━━━━━━━━━━━━━━━━━━━\u001b[0m\u001b[37m\u001b[0m \u001b[1m254s\u001b[0m 19ms/step - loss: 0.5162 - root_mean_squared_error: 0.1508 - val_loss: 0.5640 - val_root_mean_squared_error: 0.1890\n",
            "Epoch 82/100\n",
            "\u001b[1m13722/13722\u001b[0m \u001b[32m━━━━━━━━━━━━━━━━━━━━\u001b[0m\u001b[37m\u001b[0m \u001b[1m252s\u001b[0m 18ms/step - loss: 0.5156 - root_mean_squared_error: 0.1502 - val_loss: 0.5642 - val_root_mean_squared_error: 0.1890\n",
            "Epoch 83/100\n",
            "\u001b[1m13722/13722\u001b[0m \u001b[32m━━━━━━━━━━━━━━━━━━━━\u001b[0m\u001b[37m\u001b[0m \u001b[1m260s\u001b[0m 18ms/step - loss: 0.5157 - root_mean_squared_error: 0.1500 - val_loss: 0.5645 - val_root_mean_squared_error: 0.1890\n",
            "Epoch 84/100\n",
            "\u001b[1m13722/13722\u001b[0m \u001b[32m━━━━━━━━━━━━━━━━━━━━\u001b[0m\u001b[37m\u001b[0m \u001b[1m250s\u001b[0m 18ms/step - loss: 0.5143 - root_mean_squared_error: 0.1502 - val_loss: 0.5646 - val_root_mean_squared_error: 0.1890\n",
            "Epoch 85/100\n",
            "\u001b[1m13722/13722\u001b[0m \u001b[32m━━━━━━━━━━━━━━━━━━━━\u001b[0m\u001b[37m\u001b[0m \u001b[1m268s\u001b[0m 19ms/step - loss: 0.5159 - root_mean_squared_error: 0.1512 - val_loss: 0.5648 - val_root_mean_squared_error: 0.1890\n",
            "Epoch 86/100\n",
            "\u001b[1m13722/13722\u001b[0m \u001b[32m━━━━━━━━━━━━━━━━━━━━\u001b[0m\u001b[37m\u001b[0m \u001b[1m254s\u001b[0m 18ms/step - loss: 0.5151 - root_mean_squared_error: 0.1504 - val_loss: 0.5650 - val_root_mean_squared_error: 0.1892\n",
            "Epoch 87/100\n",
            "\u001b[1m13722/13722\u001b[0m \u001b[32m━━━━━━━━━━━━━━━━━━━━\u001b[0m\u001b[37m\u001b[0m \u001b[1m267s\u001b[0m 18ms/step - loss: 0.5164 - root_mean_squared_error: 0.1508 - val_loss: 0.5651 - val_root_mean_squared_error: 0.1890\n",
            "Epoch 88/100\n",
            "\u001b[1m13722/13722\u001b[0m \u001b[32m━━━━━━━━━━━━━━━━━━━━\u001b[0m\u001b[37m\u001b[0m \u001b[1m258s\u001b[0m 18ms/step - loss: 0.5145 - root_mean_squared_error: 0.1504 - val_loss: 0.5653 - val_root_mean_squared_error: 0.1892\n",
            "Epoch 89/100\n",
            "\u001b[1m13722/13722\u001b[0m \u001b[32m━━━━━━━━━━━━━━━━━━━━\u001b[0m\u001b[37m\u001b[0m \u001b[1m265s\u001b[0m 18ms/step - loss: 0.5147 - root_mean_squared_error: 0.1494 - val_loss: 0.5658 - val_root_mean_squared_error: 0.1894\n",
            "Epoch 90/100\n",
            "\u001b[1m13722/13722\u001b[0m \u001b[32m━━━━━━━━━━━━━━━━━━━━\u001b[0m\u001b[37m\u001b[0m \u001b[1m258s\u001b[0m 18ms/step - loss: 0.5160 - root_mean_squared_error: 0.1503 - val_loss: 0.5660 - val_root_mean_squared_error: 0.1895\n",
            "Epoch 91/100\n",
            "\u001b[1m13722/13722\u001b[0m \u001b[32m━━━━━━━━━━━━━━━━━━━━\u001b[0m\u001b[37m\u001b[0m \u001b[1m246s\u001b[0m 18ms/step - loss: 0.5157 - root_mean_squared_error: 0.1508 - val_loss: 0.5663 - val_root_mean_squared_error: 0.1895\n",
            "Epoch 92/100\n",
            "\u001b[1m13722/13722\u001b[0m \u001b[32m━━━━━━━━━━━━━━━━━━━━\u001b[0m\u001b[37m\u001b[0m \u001b[1m269s\u001b[0m 18ms/step - loss: 0.5175 - root_mean_squared_error: 0.1518 - val_loss: 0.5663 - val_root_mean_squared_error: 0.1893\n",
            "Epoch 93/100\n",
            "\u001b[1m13722/13722\u001b[0m \u001b[32m━━━━━━━━━━━━━━━━━━━━\u001b[0m\u001b[37m\u001b[0m \u001b[1m247s\u001b[0m 18ms/step - loss: 0.5163 - root_mean_squared_error: 0.1509 - val_loss: 0.5663 - val_root_mean_squared_error: 0.1893\n",
            "Epoch 94/100\n",
            "\u001b[1m13722/13722\u001b[0m \u001b[32m━━━━━━━━━━━━━━━━━━━━\u001b[0m\u001b[37m\u001b[0m \u001b[1m264s\u001b[0m 18ms/step - loss: 0.5151 - root_mean_squared_error: 0.1504 - val_loss: 0.5665 - val_root_mean_squared_error: 0.1894\n",
            "Epoch 95/100\n",
            "\u001b[1m13722/13722\u001b[0m \u001b[32m━━━━━━━━━━━━━━━━━━━━\u001b[0m\u001b[37m\u001b[0m \u001b[1m251s\u001b[0m 18ms/step - loss: 0.5162 - root_mean_squared_error: 0.1507 - val_loss: 0.5666 - val_root_mean_squared_error: 0.1894\n",
            "Epoch 96/100\n",
            "\u001b[1m13722/13722\u001b[0m \u001b[32m━━━━━━━━━━━━━━━━━━━━\u001b[0m\u001b[37m\u001b[0m \u001b[1m267s\u001b[0m 19ms/step - loss: 0.5166 - root_mean_squared_error: 0.1510 - val_loss: 0.5671 - val_root_mean_squared_error: 0.1895\n",
            "Epoch 97/100\n",
            "\u001b[1m13722/13722\u001b[0m \u001b[32m━━━━━━━━━━━━━━━━━━━━\u001b[0m\u001b[37m\u001b[0m \u001b[1m252s\u001b[0m 18ms/step - loss: 0.5167 - root_mean_squared_error: 0.1514 - val_loss: 0.5672 - val_root_mean_squared_error: 0.1896\n",
            "Epoch 98/100\n",
            "\u001b[1m13722/13722\u001b[0m \u001b[32m━━━━━━━━━━━━━━━━━━━━\u001b[0m\u001b[37m\u001b[0m \u001b[1m263s\u001b[0m 18ms/step - loss: 0.5148 - root_mean_squared_error: 0.1500 - val_loss: 0.5674 - val_root_mean_squared_error: 0.1897\n",
            "Epoch 99/100\n",
            "\u001b[1m13722/13722\u001b[0m \u001b[32m━━━━━━━━━━━━━━━━━━━━\u001b[0m\u001b[37m\u001b[0m \u001b[1m252s\u001b[0m 18ms/step - loss: 0.5165 - root_mean_squared_error: 0.1519 - val_loss: 0.5676 - val_root_mean_squared_error: 0.1896\n",
            "Epoch 100/100\n",
            "\u001b[1m13722/13722\u001b[0m \u001b[32m━━━━━━━━━━━━━━━━━━━━\u001b[0m\u001b[37m\u001b[0m \u001b[1m250s\u001b[0m 18ms/step - loss: 0.5175 - root_mean_squared_error: 0.1507 - val_loss: 0.5679 - val_root_mean_squared_error: 0.1899\n"
          ]
        }
      ],
      "source": [
        "from tensorflow.keras.callbacks import EarlyStopping\n",
        "\n",
        "# Callback: Stop training jika val_loss tidak membaik selama 5 epoch\n",
        "early_stop = EarlyStopping(\n",
        "    monitor='val_loss',\n",
        "    patience=5,        # Beri waktu 5 epoch sebelum stop\n",
        "    restore_best_weights=True,  # Ambil bobot terbaik sebelum overfitting\n",
        "    verbose=1\n",
        ")\n",
        "\n",
        "# Memulai training\n",
        "\n",
        "history = model.fit(\n",
        "    x = x_train,\n",
        "    y = y_train,\n",
        "    batch_size = 8,\n",
        "    epochs = 100,\n",
        "    validation_data = (x_val, y_val)\n",
        ")"
      ]
    },
    {
      "cell_type": "markdown",
      "source": [
        "## Visualisasi Metrik"
      ],
      "metadata": {
        "id": "B_5iWmSyVYeD"
      }
    },
    {
      "cell_type": "code",
      "source": [
        "plt.plot(history.history['root_mean_squared_error'])\n",
        "plt.plot(history.history['val_root_mean_squared_error'])\n",
        "plt.title('model_metrics')\n",
        "plt.ylabel('root_mean_squared_error')\n",
        "plt.xlabel('epoch')\n",
        "plt.legend(['train', 'test'], loc='upper left')\n",
        "plt.show()"
      ],
      "metadata": {
        "colab": {
          "base_uri": "https://localhost:8080/",
          "height": 472
        },
        "id": "2b4EdcwCVbSl",
        "outputId": "17ae8e38-667b-4229-e6a4-7b630bdd212d"
      },
      "execution_count": 38,
      "outputs": [
        {
          "output_type": "display_data",
          "data": {
            "text/plain": [
              "<Figure size 640x480 with 1 Axes>"
            ],
            "image/png": "[encoded data removed]"
          },
          "metadata": {}
        }
      ]
    },
    {
      "cell_type": "markdown",
      "source": [
        "## Mendapatkan Rekomendasi"
      ],
      "metadata": {
        "id": "sUnVl74KVjWl"
      }
    },
    {
      "cell_type": "code",
      "source": [
        "# Data\n",
        "df = ratings.copy()\n",
        "\n",
        "# Step 1: Encode user & book\n",
        "user_ids = df['User-ID'].unique().tolist()\n",
        "book_ids = df['ISBN'].unique().tolist()\n",
        "\n",
        "user_to_user_encoded = {x: i for i, x in enumerate(user_ids)}\n",
        "book_to_book_encoded = {x: i for i, x in enumerate(book_ids)}\n",
        "book_encoded_to_book = {i: x for x, i in book_to_book_encoded.items()}\n",
        "\n",
        "df['user'] = df['User-ID'].map(user_to_user_encoded)\n",
        "df['book'] = df['ISBN'].map(book_to_book_encoded)\n",
        "df['rating'] = df['Book-Rating']\n",
        "\n",
        "# Step 2: Definisikan fungsi rekomendasi\n",
        "def recommend_books_for_user(user_id, ratings, model, user_to_user_encoded, book_to_book_encoded, book_encoded_to_book, top_n=10):\n",
        "    books_read_by_user = ratings[ratings['User-ID'] == user_id]\n",
        "    books_not_read = ratings[~ratings['ISBN'].isin(books_read_by_user['ISBN'].values)]['ISBN'].unique()\n",
        "    books_not_read = list(set(books_not_read).intersection(set(book_to_book_encoded.keys())))\n",
        "\n",
        "    books_not_read_encoded = [[book_to_book_encoded.get(x)] for x in books_not_read]\n",
        "    user_encoder = user_to_user_encoded.get(user_id)\n",
        "    user_book_array = np.hstack(([[user_encoder]] * len(books_not_read_encoded), books_not_read_encoded))\n",
        "\n",
        "    ratings_pred = model.predict(user_book_array).flatten()\n",
        "    top_ratings_indices = ratings_pred.argsort()[-top_n:][::-1]\n",
        "    recommended_book_ids = [book_encoded_to_book.get(books_not_read_encoded[x][0]) for x in top_ratings_indices]\n",
        "\n",
        "    print(f\"Showing recommendations for user: {user_id}\")\n",
        "    print(\"=\" * 40)\n",
        "    print(\"Books with high ratings from user\")\n",
        "    print(\"-\" * 40)\n",
        "\n",
        "    top_books_user = (\n",
        "        books_read_by_user\n",
        "        .sort_values(by='Book-Rating', ascending=False)\n",
        "        .head(5)\n",
        "        .ISBN.values\n",
        "    )\n",
        "\n",
        "    books_df_rows = ratings[ratings['ISBN'].isin(top_books_user)].drop_duplicates(subset='ISBN')\n",
        "    for row in books_df_rows.itertuples():\n",
        "        print(f\"{row._4} - {row._5}\")  # Book-Title - Book-Author\n",
        "\n",
        "    print(\"-\" * 40)\n",
        "    print(\"Top 10 Book Recommendations\")\n",
        "    print(\"-\" * 40)\n",
        "\n",
        "    recommended_books = ratings[ratings['ISBN'].isin(recommended_book_ids)].drop_duplicates(subset='ISBN')\n",
        "    for row in recommended_books.itertuples():\n",
        "        print(f\"{row._4} - {row._5}\")  # Book-Title - Book-Author\n",
        "\n",
        "# Step 3: Ambil sample user dan panggil fungsi\n",
        "sample_user_id = df['User-ID'].sample(1).iloc[0]\n",
        "\n",
        "recommend_books_for_user(\n",
        "    user_id=sample_user_id,\n",
        "    ratings=df,\n",
        "    model=model,\n",
        "    user_to_user_encoded=user_to_user_encoded,\n",
        "    book_to_book_encoded=book_to_book_encoded,\n",
        "    book_encoded_to_book=book_encoded_to_book,\n",
        "    top_n=10\n",
        ")\n"
      ],
      "metadata": {
        "colab": {
          "base_uri": "https://localhost:8080/"
        },
        "id": "zi_ehE93VmkU",
        "outputId": "d6540b18-3465-4dbb-e11b-d9bc8ebf27eb"
      },
      "execution_count": 52,
      "outputs": [
        {
          "output_type": "stream",
          "name": "stdout",
          "text": [
            "\u001b[1m338/338\u001b[0m \u001b[32m━━━━━━━━━━━━━━━━━━━━\u001b[0m\u001b[37m\u001b[0m \u001b[1m1s\u001b[0m 2ms/step\n",
            "Showing recommendations for user: 139467\n",
            "========================================\n",
            "Books with high ratings from user\n",
            "----------------------------------------\n",
            "Charming Billy - Alice McDermott\n",
            "The Professor and the Madman: A Tale of Murder, Insanity, and the Making of The Oxford English Dictionary - Simon Winchester\n",
            "Staggerford (Mysteries &amp; Horror) - Jon Hassler\n",
            "A Widow for One Year : A Novel - JOHN IRVING\n",
            "The Trumpet of the Swan - E. B. White\n",
            "----------------------------------------\n",
            "Top 10 Book Recommendations\n",
            "----------------------------------------\n",
            "Postmarked Yesteryear: 30 Rare Holiday Postcards - Pamela E. Apkarian-Russell\n",
            "Uncle John's Supremely Satisfying Bathroom Reader (Uncle John's Bathroom Reader) - Bathroom Readers Institute\n",
            "The Hobbit - J. R. R. Tolkien\n",
            "Betsy and Tacy Go Downtown (Betsy-Tacy) - Maud Hart Lovelace\n",
            "Our Bodies Ourselves For The New Century (A Touchstone book) - Boston Women's Health Book Collective\n",
            "Goodnight Moon Board Book - Margaret Wise Brown\n",
            "Dreams of Childhood: Postcard Book - Pomegranate Publishers\n",
            "Dilbert: A Book of Postcards - Scott Adams\n",
            "Natural California: A Postcard Book - Not Applicable (Na )\n",
            "Postcards from Live and Learn and Pass It on - H. Jackson, Jr. Brown\n"
          ]
        }
      ]
    },
    {
      "cell_type": "markdown",
      "source": [
        "**📌 Identitas Pengguna**\n",
        "\n",
        "User ID: 139467\n",
        "\n",
        "**✅ Preferensi Genre atau Pola Rating User**\n",
        "\n",
        "Buku yang disukai user (dengan rating tinggi):\n",
        "- Charming Billy - Alice McDermott\n",
        "- The Professor and the Madman - Simon Winchester\n",
        "- Staggerford - Jon Hassler\n",
        "- A Widow for One Year - John Irving\n",
        "- The Trumpet of the Swan - E. B. White\n",
        "\n",
        "**📍Insight:**\n",
        "\n",
        "User menyukai fiksi sastra, novel klasik, dan biografi/cerita historis.\n",
        "\n",
        "**🔮 Rekomendasi 10 Buku Teratas:**\n",
        "\n",
        "1. Postmarked Yesteryear - Pamela E. Apkarian-Russell\n",
        "2. Uncle John's Supremely Satisfying Bathroom Reader\n",
        "3. The Hobbit - J. R. R. Tolkien\n",
        "4. Betsy and Tacy Go Downtown - Maud Hart Lovelace\n",
        "5. Our Bodies Ourselves For The New Century\n",
        "6. Goodnight Moon Board Book - Margaret Wise Brown\n",
        "7. Dreams of Childhood\n",
        "8. Dilbert: A Book of Postcards\n",
        "9. Natural California\n",
        "10. Postcards from Live and Learn and Pass It On\n",
        "\n",
        "**📌 Sistem menyarankan:**\n",
        "\n",
        "- Campuran buku klasik, fantasi, humor, dan nonfiksi populer.\n",
        "- Ada kesinambungan dengan preferensi sebelumnya, terutama pada nuansa nostalgia dan cerita personal.\n",
        "\n",
        "**🧠 Kesimpulan Akhir**\n",
        "\n",
        "*Sistem berhasil mengenali preferensi literatur klasik dan menambah variasi genre seperti humor dan fantasi ringan untuk eksplorasi lebih lanjut.*"
      ],
      "metadata": {
        "id": "DD-BVvhsynUu"
      }
    },
    {
      "cell_type": "code",
      "source": [],
      "metadata": {
        "id": "rvD5bazCzD4w"
      },
      "execution_count": null,
      "outputs": []
    }
  ],
  "metadata": {
    "colab": {
      "provenance": [],
      "authorship_tag": "ABX9TyMjKPf/qUNwhNZv2iUB4AgO",
      "include_colab_link": true
    },
    "kernelspec": {
      "display_name": "Python 3",
      "name": "python3"
    },
    "language_info": {
      "name": "python"
    }
  },
  "nbformat": 4,
  "nbformat_minor": 0
}